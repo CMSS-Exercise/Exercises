{
 "cells": [
  {
   "cell_type": "markdown",
   "id": "27aa6aa3",
   "metadata": {},
   "source": [
    "# Mesa Schelling example - A Schelling-like Segregation Model\n",
    "\n",
    "## Description\n",
    "\n",
    "The Schelling (1971) segregation model is a classic of agent-based modeling, demonstrating how agents following simple rules lead to the emergence of qualitatively different macro-level outcomes. Agents are randomly placed on a grid. There are two types of agents, one constituting the majority and the other the minority. All agents want a certain number (generally, 3) of their 8 surrounding neighbors to be of the same type in order for them to be happy. Unhappy agents will move to a more happier grid space (if available). While individual agents do not have a preference for a segregated outcome (e.g. they would be happy with 3 similar neighbors and 5 different ones), the aggregate outcome can nevertheless become heavily segregated.\n",
    "\n",
    "## Sample Model Description\n",
    "\n",
    "The tutorial model is a very simple simulated dynamic of agent segregation. These are the rules of our tutorial model:\n",
    "\n",
    "1. There are some number of agents.\n",
    "2. All agents begin as randomly placed on a grid.\n",
    "3. At every step of the model, an agent considers how many of its surrounding neighbors to be of the same type in order for them to be happy.\n",
    "4. If an agent is unhappy, it moves to an unoccupied cell; otherwise, an agent doesn't move\n",
    "\n",
    "Despite its simplicity, this model yields results that are often unexpected to those not familiar with it.\n",
    "\n",
    "## How to use and modify the code\n",
    "\n",
    "These excercises are designed around a Mesa template that is given to you to reuse. You are not asked to perform any complex object programming, but instead we ask for understanding of the core features of the Mesa python package. If you want to add functionality or adapt certain features, you will mostly have to modifly the existing template and code the ``Model`` and ``Agent``behavior using standard python code.\n",
    "\n",
    "Let’s get started."
   ]
  },
  {
   "cell_type": "markdown",
   "id": "2853aae8",
   "metadata": {},
   "source": [
    "# 1. Create the Basic Agent/Model"
   ]
  },
  {
   "cell_type": "markdown",
   "id": "28d0b6e0",
   "metadata": {},
   "source": [
    "## Setting up the model\n",
    "\n",
    "To begin writing the model code, we start with two core classes: one for\n",
    "the overall model, the other for the agents. The model class holds the\n",
    "model-level attributes, manages the agents, and generally handles the\n",
    "global level of our model. Each instantiation of the model class will be\n",
    "a specific model run. Each model will contain multiple agents, all of\n",
    "which are instantiations of the agent class. Both the model and agent\n",
    "classes are child classes of Mesa’s generic ``Model`` and ``Agent``\n",
    "classes.\n",
    "\n",
    "### ``# Agent Initialization``:\n",
    "\n",
    "Each agent has only two variables:\n",
    "- 2D position on the grid (x , y)\n",
    "- agent type [0, 1]\n",
    "\n",
    "(Each agent will also have a unique identifier (i.e., a position), stored in\n",
    "the ``pos`` variable. Giving each agent a unique id is a good\n",
    "practice when doing agent-based modeling.)\n",
    "\n",
    "### ``# Calculate the number of similar neighbours``:\n",
    "\n",
    "- calculate the number of similar neighbours\n",
    "- if the Agent is happy with it's neighbourhood - it stays\n",
    "\n",
    "### ``# Move to an empty location if unhappy``:\n",
    "\n",
    "- if the Agent is unhappy - perform move to better empty cell\n",
    "- if at new location there are no neighbors - agent moves\n",
    "\n",
    "An example of the agent class can look like this:"
   ]
  },
  {
   "cell_type": "code",
   "execution_count": null,
   "id": "4529aa9f",
   "metadata": {},
   "outputs": [],
   "source": [
    "from mesa import Model, Agent\n",
    "from mesa.time import RandomActivation\n",
    "from mesa.space import SingleGrid"
   ]
  },
  {
   "cell_type": "code",
   "execution_count": null,
   "id": "2e0ea364",
   "metadata": {},
   "outputs": [],
   "source": [
    "class SchellingAgent(Agent):\n",
    "    \"\"\"\n",
    "    Schelling segregation agent\n",
    "    \"\"\"\n",
    "\n",
    "    def __init__(self, pos, model, agent_type):\n",
    "        \"\"\"\n",
    "        Create a new Schelling agent.\n",
    "\n",
    "        Args:\n",
    "           unique_id: Unique identifier for the agent.\n",
    "           pos: Agent initial location.\n",
    "           agent_type: Indicator for the agent's type (minority=1, majority=0)\n",
    "        \"\"\"\n",
    "        super().__init__(pos, model)\n",
    "        self.pos = pos\n",
    "        self.type = agent_type\n",
    "\n",
    "    def step(self):\n",
    "        similar = 0\n",
    "        for neighbor in self.model.grid.iter_neighbors(self.pos, True):\n",
    "            if neighbor.type == self.type:\n",
    "                similar += 1\n",
    "\n",
    "        # If unhappy, move:\n",
    "        if similar < self.model.homophily:\n",
    "            self.model.grid.move_to_empty(self)\n",
    "        else:\n",
    "            self.model.happy += 1"
   ]
  },
  {
   "cell_type": "markdown",
   "id": "07bdfced",
   "metadata": {},
   "source": [
    "### ``# Model Initialization``:\n",
    "\n",
    "There are a number of model-level parameters: \n",
    "\n",
    "- height and width of the grid\n",
    "- density of grid population to define how many agents and empty cells the model contains\n",
    "- minority proportion to define proportion of two types of agents on the grid\n",
    "- homophily treshold to which the agent is happy with its neighbourhood\n",
    "\n",
    "### ``# Create agents``:\n",
    "\n",
    "- use uniform random numbers to populate the grid based on density parameter\n",
    "- use uniform random numbers to selects agent type based on minority proportion\n",
    "\n",
    "When a new model is started, we want it to populate the grid itself with the defined number of agents with having the given proportion between two groups. Let's implement an example model class:"
   ]
  },
  {
   "cell_type": "code",
   "execution_count": null,
   "id": "a43375fa",
   "metadata": {},
   "outputs": [],
   "source": [
    "class Schelling(Model):\n",
    "    \"\"\"\n",
    "    Model class for the Schelling segregation model.\n",
    "    \n",
    "    width: Horizontal axis of the grid which is used together with Height to define the total number of agents in the system.\n",
    "    height: Vertical axis of the grid which is used together with Width to define the total number of agents in the system.\n",
    "    density: Define the population density of agent in the system. Floating value from 0 to 1.\n",
    "    fraction minority: The ratio between blue and red. Blue is represented as the minority while red is represented as the majority. Floating value from 0 to 1. If the value is higher than 0.5, blue will become the majority instead.\n",
    "    homophily: Define the number of similar neighbors required for the agents to be happy. Integer value range from 0 to 8 since you can only be surrounded by 8 neighbors.\n",
    "    \"\"\"\n",
    "\n",
    "    def __init__(self, width=20, height=20, density=0.8, minority_pc=0.2, homophily=3):\n",
    "        super().__init__()\n",
    "        self.width = width\n",
    "        self.height = height\n",
    "        self.homophily = homophily\n",
    "\n",
    "        self.grid = mesa.space.SingleGrid(width, height, torus=True)\n",
    "\n",
    "        self.happy = 0\n",
    "        self.datacollector = mesa.DataCollector(\n",
    "            {\"happy\": \"happy\"},  # Model-level count of happy agents\n",
    "        )\n",
    "\n",
    "        # Set up agents\n",
    "        # We use a grid iterator that returns\n",
    "        # the coordinates of a cell as well as\n",
    "        # its contents. (coord_iter)\n",
    "        for _, pos in self.grid.coord_iter():\n",
    "            if self.random.random() < density:\n",
    "                agent_type = 1 if self.random.random() < minority_pc else 0\n",
    "                agent = SchellingAgent(pos, self, agent_type)\n",
    "                self.grid.place_agent(agent, pos)\n",
    "\n",
    "        self.datacollector.collect(self)\n",
    "\n",
    "    def step(self):\n",
    "        \"\"\"\n",
    "        Run one step of the model. If All agents are happy, halt the model.\n",
    "        \"\"\"\n",
    "        self.happy = 0  # Reset counter of happy agents\n",
    "        self.agents.shuffle().do(\"step\")\n",
    "        # Must be before data collection.\n",
    "        self._advance_time()  # Temporary API; will be finalized by Mesa 3.0 release\n",
    "        # collect data\n",
    "        self.datacollector.collect(self)\n",
    "\n",
    "        if self.happy == len(self.agents):\n",
    "            self.running = False"
   ]
  },
  {
   "cell_type": "markdown",
   "id": "7ee83ebb",
   "metadata": {},
   "source": [
    "# 2. Run the Agent/Model Basic"
   ]
  },
  {
   "cell_type": "markdown",
   "id": "7883c3cd",
   "metadata": {},
   "source": [
    "### Running the model\n",
    "\n",
    "At this point, we have a model which runs.\n",
    "You can see for yourself with a few easy lines. If you’ve been working\n",
    "in an interactive session, you can create a model object directly. \n",
    "\n",
    "With that last piece in hand, it’s time for the first rudimentary run of\n",
    "the model.\n",
    "\n",
    "Now let’s create a model with 20 x 20 agents, and run it for 10 steps."
   ]
  },
  {
   "cell_type": "markdown",
   "id": "90d56d14",
   "metadata": {},
   "source": [
    "### ``# Model parameters``:\n",
    "\n",
    "- specify all model-level parameters of its __init__ function\n",
    "- height and width are given already as 20 x 20, as well as density and minority proportion\n",
    "- define homophily threshold"
   ]
  },
  {
   "cell_type": "code",
   "execution_count": null,
   "id": "d4d00c6c",
   "metadata": {},
   "outputs": [],
   "source": [
    "# Model parameters\n",
    "model = Schelling(20, 20, 0.98, 0.5, 20)\n",
    "\n",
    "while model.running:\n",
    "    model.step()"
   ]
  },
  {
   "cell_type": "markdown",
   "id": "ab7f781c",
   "metadata": {},
   "source": [
    "# 3. Visualize the Agent/Model"
   ]
  },
  {
   "cell_type": "markdown",
   "id": "f3dc045d",
   "metadata": {},
   "source": [
    "### At the location ``# Model parameters``:\n",
    "\n",
    "- specify all model-level parameters of its __init__ function\n",
    "- height and width are given already as 20 x 20, as well as density and minority proportion\n",
    "- given: homophily treshold 20%"
   ]
  },
  {
   "cell_type": "code",
   "execution_count": null,
   "id": "2f45dba8",
   "metadata": {},
   "outputs": [],
   "source": [
    "def get_happy_agents(model):\n",
    "    \"\"\"\n",
    "    Display a text count of how many happy agents there are.\n",
    "    \"\"\"\n",
    "    return f\"Happy agents: {model.happy}\"\n",
    "\n",
    "\n",
    "def schelling_draw(agent):\n",
    "    \"\"\"\n",
    "    Portrayal Method for canvas\n",
    "    \"\"\"\n",
    "    if agent is None:\n",
    "        return\n",
    "    portrayal = {\"Shape\": \"circle\", \"r\": 0.5, \"Filled\": \"true\", \"Layer\": 0}\n",
    "\n",
    "    if agent.type == 0:\n",
    "        portrayal[\"Color\"] = [\"#FF0000\", \"#FF9999\"]\n",
    "        portrayal[\"stroke_color\"] = \"#00FF00\"\n",
    "    else:\n",
    "        portrayal[\"Color\"] = [\"#0000FF\", \"#9999FF\"]\n",
    "        portrayal[\"stroke_color\"] = \"#000000\"\n",
    "    return portrayal\n",
    "\n",
    "\n",
    "canvas_element = mesa.visualization.CanvasGrid(\n",
    "    portrayal_method=schelling_draw,\n",
    "    grid_width=20,\n",
    "    grid_height=20,\n",
    "    canvas_width=500,\n",
    "    canvas_height=500,\n",
    ")\n",
    "happy_chart = mesa.visualization.ChartModule([{\"Label\": \"happy\", \"Color\": \"Black\"}])\n",
    "\n",
    "model_params = {\n",
    "    \"height\": 20,\n",
    "    \"width\": 20,\n",
    "    \"density\": mesa.visualization.Slider(\n",
    "        name=\"Agent density\", value=0.8, min_value=0.1, max_value=1.0, step=0.1\n",
    "    ),\n",
    "    \"minority_pc\": mesa.visualization.Slider(\n",
    "        name=\"Fraction minority\", value=0.2, min_value=0.00, max_value=1.0, step=0.05\n",
    "    ),\n",
    "    \"homophily\": mesa.visualization.Slider(\n",
    "        name=\"Homophily\", value=3, min_value=0, max_value=8, step=1\n",
    "    )\n",
    "}\n",
    "\n",
    "server = mesa.visualization.ModularServer(\n",
    "    model_cls=Schelling,\n",
    "    visualization_elements=[canvas_element, get_happy_agents, happy_chart],\n",
    "    name=\"Schelling Segregation Model\",\n",
    "    model_params=model_params,\n",
    ")"
   ]
  },
  {
   "cell_type": "markdown",
   "id": "4f50af05",
   "metadata": {},
   "source": [
    "# 4. Run the Agent/Model Visualization\n",
    "\n",
    "NOTE: Runtime server error is normal and expected when running visualization code below. This visualization code was made for command line execution (not explicitly for Jupyter Notebooks), so we are **forcing** it's use.\n",
    "\n",
    "Just make sure to increment the port number counter each visualization run, to be able to use it."
   ]
  },
  {
   "cell_type": "code",
   "execution_count": null,
   "id": "19adfd6c",
   "metadata": {},
   "outputs": [],
   "source": [
    "server.port = 8523 # The default 8521 - increase the counter as you run the visalizations\n",
    "server.launch() # Uncomment to run the visalization"
   ]
  }
 ],
 "metadata": {
  "kernelspec": {
   "display_name": "Python 3 (ipykernel)",
   "language": "python",
   "name": "python3"
  },
  "language_info": {
   "codemirror_mode": {
    "name": "ipython",
    "version": 3
   },
   "file_extension": ".py",
   "mimetype": "text/x-python",
   "name": "python",
   "nbconvert_exporter": "python",
   "pygments_lexer": "ipython3",
   "version": "3.11.4"
  }
 },
 "nbformat": 4,
 "nbformat_minor": 5
}
