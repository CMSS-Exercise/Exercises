{
 "cells": [
  {
   "cell_type": "markdown",
   "id": "51b11790",
   "metadata": {},
   "source": [
    " _Authors: Petar Jerčić (pjercic@tugraz.at), Jana Lasser (jana.lasser@ds.mpg.de), David Garcia and Max Pellert._  \n",
    " _This teaching material is created for the course \"Computational Modelling of Social Systems\" at Uni Konstanz._"
   ]
  },
  {
   "cell_type": "markdown",
   "id": "ed4bb4ad",
   "metadata": {},
   "source": [
    "# Mesa Introductory Tutorial\n",
    "\n",
    "This tutorial has been adapted from the Mesa package introductory tutorial [GitHub](https://github.com/projectmesa/mesa/blob/main/docs/tutorials/intro_tutorial.rst). It has been purposefully simplified for the context of this course.\n",
    "\n",
    "Mesa has extensive [API documentation](https://mesa.readthedocs.io/en/stable/apis/api_main.html), but we will slowly go through the important objects and methods throughout the excercises, step-by-step.\n",
    "\n",
    "The excercises will have a similar structure as follows:\n",
    "1. Create the Basic Agent/Model\n",
    "2. Run the Agent/Model Basic\n",
    "3. Visualize the Agent/Model\n",
    "4. Run the Agent/Model Visualization\n",
    "5. Collect data to Analyze the Agent/Model\n",
    "6. Run the Agent/Model Analysis\n",
    "7. Create iteration Batch of the Agent/Model\n",
    "8. Run the Agent/Model Batch\n",
    "9. Run the Batch data Analysis"
   ]
  },
  {
   "cell_type": "markdown",
   "id": "bc10d07b",
   "metadata": {},
   "source": [
    "## Description\n",
    "\n",
    "[Mesa](https://github.com/projectmesa/mesa) is a Python framework for\n",
    "[agent-based modeling](https://en.wikipedia.org/wiki/Agent-based_model). Getting\n",
    "started with Mesa is easy. In this tutorial, we will walk through\n",
    "creating a simple model and progressively add functionality which will\n",
    "illustrate Mesa’s core features.\n",
    "\n",
    "The turorial will be given sequentially in 4 blocks:\n",
    "\n",
    "1. The base for this tutorial is a very simple model of agents exchanging money. \n",
    "2. Next, we add *space* to allow agents to move. \n",
    "3. Then, we’ll cover two of Mesa’s analytic tools: the *data collector* and *batch runner*.\n",
    "4. After that, we’ll add an *interactive visualization* which lets us watch the model as it runs. Finally, we go over how to write your own visualization module.\n",
    "\n",
    "You can also find all the full code this tutorial describes in the **examples/boltzmann_wealth_model** directory of the Mesa examples repository (https://github.com/projectmesa/mesa-examples).\n",
    "\n",
    "## Sample Model Description\n",
    "\n",
    "The tutorial model is a very simple simulated agent-based economy, drawn\n",
    "from econophysics and presenting a statistical mechanics approach to\n",
    "wealth distribution. The rules of our tutorial model:\n",
    "\n",
    "1. There are some number of agents.\n",
    "2. All agents begin with 1 unit of money.\n",
    "3. At every step of the model, an agent gives 1 unit of money (if they\n",
    "   have it) to some other agent.\n",
    "\n",
    "Despite its simplicity, this model yields results that are often\n",
    "unexpected to those not familiar with it. For our purposes, it also\n",
    "easily demonstrates Mesa’s core features.\n",
    "\n",
    "## How to use and modify the code\n",
    "\n",
    "These excercises are designed around a Mesa template that is given to you to reuse. You are not asked to perform any complex object programming, but instead we ask for understanding of the core features of the Mesa pyhton package. You will mostly have to modifly the existing template and code the ``Model`` and ``Agent``behavior using standard python code.\n",
    "\n",
    "**Therefore, in this excercise, you are asked to fill your code where the comments state:**\n",
    "\n",
    "``#[Your code here]``\n",
    "\n",
    "Let’s get started."
   ]
  },
  {
   "cell_type": "markdown",
   "id": "6c301d01",
   "metadata": {},
   "source": [
    "## Building a sample model\n",
    "\n",
    "Once the instalation of the neccesary requirements is ready you can start building the model.\n",
    "\n",
    "- Python 3 is installed\n",
    "- Jupyter Noteboks is installed (Anaconda or through Mesa)\n",
    "- Mesa is installed\n",
    "\n",
    "Now you can write models interactively in [Jupyter Notebook](http://jupyter.org/) cells."
   ]
  },
  {
   "cell_type": "markdown",
   "id": "39911cb6",
   "metadata": {},
   "source": [
    "# 1. Create the Basic Agent/Model"
   ]
  },
  {
   "cell_type": "markdown",
   "id": "fe964061",
   "metadata": {},
   "source": [
    "## Setting up the model\n",
    "\n",
    "To begin writing the model code, we start with two core classes: one for\n",
    "the overall model, the other for the agents. The model class holds the\n",
    "model-level attributes, manages the agents, and generally handles the\n",
    "global level of our model. Each instantiation of the model class will be\n",
    "a specific model run. Each model will contain multiple agents, all of\n",
    "which are instantiations of the agent class. Both the model and agent\n",
    "classes are child classes of Mesa’s generic ``Model`` and ``Agent``\n",
    "classes.\n",
    "\n",
    "Each agent has only one variable: how much wealth it currently has.\n",
    "(Each agent will also have a unique identifier (i.e., a name), stored in\n",
    "the ``unique_id`` variable. Giving each agent a unique id is a good\n",
    "practice when doing agent-based modeling.)\n",
    "\n",
    "There is only one model-level parameter: how many agents the model\n",
    "contains. When a new model is started, we want it to populate itself\n",
    "with the given number of agents.\n",
    "\n",
    "The beginning of both classes looks like this:"
   ]
  },
  {
   "cell_type": "code",
   "execution_count": 4,
   "id": "388a82ef",
   "metadata": {
    "tags": []
   },
   "outputs": [
    {
     "name": "stdout",
     "output_type": "stream",
     "text": [
      "2.4.0\n"
     ]
    }
   ],
   "source": [
    "# Setting up the model - agen variables and model-level parameters\n",
    "\n",
    "from mesa import Agent, Model\n",
    "#!pip install mesa==2.2.0 # restart Kernel afterwards\n",
    "import mesa\n",
    "print(mesa.__version__)\n",
    "\n",
    "\n",
    "class MoneyAgent(Agent):\n",
    "    \"\"\"An agent with fixed initial wealth.\"\"\"\n",
    "\n",
    "    def __init__(self, unique_id, model):\n",
    "        super().__init__(unique_id, model)\n",
    "        \n",
    "        self.wealth = 1    # < agent variable: how much wealth it currently has\n",
    "\n",
    "\n",
    "class MoneyModel(Model):\n",
    "    \"\"\"A model with some number of agents.\"\"\"\n",
    "\n",
    "    def __init__(self, N):\n",
    "        super().__init__()\n",
    "        \n",
    "        self.num_agents = N    # < model-level parameter: how many agents the model contains\n",
    "        \n",
    "        # Create agents\n",
    "        for i in range(self.num_agents):\n",
    "            a = MoneyAgent(i, self)"
   ]
  },
  {
   "cell_type": "markdown",
   "id": "6579f4f1",
   "metadata": {},
   "source": [
    "## Adding the scheduler\n",
    "\n",
    "Time in most agent-based models moves in steps, sometimes also called\n",
    "**ticks**. At each step of the model, one or more of the agents –\n",
    "usually all of them – are activated and take their own step, changing\n",
    "internally and/or interacting with one another or the environment.\n",
    "\n",
    "The **scheduler** is a special model component which controls the order\n",
    "in which agents are activated. For example, all the agents may activate\n",
    "in the same order every step; their order might be shuffled; we may try\n",
    "to simulate all the agents acting at the same time; and more. Mesa\n",
    "offers a few different built-in scheduler classes, with a common\n",
    "interface. That makes it easy to change the activation regime a given\n",
    "model uses, and see whether it changes the model behavior. This may not\n",
    "seem important, but scheduling patterns can have an impact on your\n",
    "results.\n",
    "\n",
    "For now, let’s use one of the simplest ones: ``RandomActivation``, which\n",
    "activates all the agents once per step, in random order. Every agent is\n",
    "expected to have a ``step`` method. The step method is the action the\n",
    "agent takes when it is activated by the model schedule. We add an agent\n",
    "to the schedule using the ``add`` method; when we call the schedule’s\n",
    "``step`` method, the model shuffles the order of the agents, then\n",
    "activates and executes each agent’s ``step`` method.\n",
    "\n",
    "With that in mind, the model code with the scheduler added looks like\n",
    "this:"
   ]
  },
  {
   "cell_type": "code",
   "execution_count": 6,
   "id": "6905686a",
   "metadata": {
    "tags": []
   },
   "outputs": [],
   "source": [
    "# Adding the scheduler - agent step and model step actions\n",
    "\n",
    "from mesa import Agent, Model\n",
    "from mesa.time import RandomActivation\n",
    "\n",
    "class MoneyAgent(Agent):\n",
    "    \"\"\"An agent with fixed initial wealth.\"\"\"\n",
    "\n",
    "    def __init__(self, unique_id, model):\n",
    "        super().__init__(unique_id, model)\n",
    "        self.wealth = 1\n",
    "\n",
    "    def step(self):\n",
    "        # The agent's step will go here.\n",
    "        # For demonstration purposes we will print the agent's unique_id\n",
    "        print(\"Hi, I am agent \" + str(self.unique_id) + \".\")    # < agent step: action when activated\n",
    "\n",
    "\n",
    "class MoneyModel(Model):\n",
    "    \"\"\"A model with some number of agents.\"\"\"\n",
    "\n",
    "    def __init__(self, N):\n",
    "        super().__init__()\n",
    "        self.num_agents = N\n",
    "        self.schedule = RandomActivation(self)\n",
    "        # Create agents\n",
    "        for i in range(self.num_agents):\n",
    "            a = MoneyAgent(i, self)\n",
    "            self.schedule.add(a)\n",
    "\n",
    "    def step(self):\n",
    "        \"\"\"Advance the model by one step.\"\"\"\n",
    "        self.schedule.step()    # < model step: activate and execute each agent's step"
   ]
  },
  {
   "cell_type": "markdown",
   "id": "a40dc714",
   "metadata": {},
   "source": [
    "### Running the model\n",
    "\n",
    "At this point, we have a model which runs – it just doesn’t do anything.\n",
    "You can see for yourself with a few easy lines. If you’ve been working\n",
    "in an interactive session, you can create a model object directly. \n",
    "\n",
    "Then create the model object, and run it for one step:"
   ]
  },
  {
   "cell_type": "code",
   "execution_count": 8,
   "id": "5a189b3d",
   "metadata": {
    "tags": []
   },
   "outputs": [
    {
     "name": "stdout",
     "output_type": "stream",
     "text": [
      "Hi, I am agent 9.\n",
      "Hi, I am agent 1.\n",
      "Hi, I am agent 8.\n",
      "Hi, I am agent 2.\n",
      "Hi, I am agent 4.\n",
      "Hi, I am agent 0.\n",
      "Hi, I am agent 7.\n",
      "Hi, I am agent 3.\n",
      "Hi, I am agent 5.\n",
      "Hi, I am agent 6.\n"
     ]
    }
   ],
   "source": [
    "# Test the model\n",
    "\n",
    "empty_model = MoneyModel(10)\n",
    "empty_model.step()"
   ]
  },
  {
   "cell_type": "markdown",
   "id": "c429eaeb",
   "metadata": {},
   "source": [
    "### Exercise\n",
    "\n",
    "Try modifying the code above to have every agent print out its\n",
    "``wealth`` when it is activated. Run a few steps of the model to see how\n",
    "the agent activation order is shuffled each step."
   ]
  },
  {
   "cell_type": "markdown",
   "id": "ef50f158",
   "metadata": {},
   "source": [
    "## Agent Step\n",
    "\n",
    "Now we just need to have the agents do what we intend for them to do:\n",
    "check their wealth, and if they have the money, give one unit of it away\n",
    "to another random agent. To allow the agent to choose another agent at\n",
    "random, we use the ``model.random`` random-number generator. This works\n",
    "just like Python’s ``random`` module, but with a fixed seed set when the\n",
    "model is instantiated, that can be used to replicate a specific model\n",
    "run later.\n",
    "\n",
    "To pick an agent at random, we need a list of all agents. Notice that\n",
    "there isn’t such a list explicitly in the model. The scheduler, however,\n",
    "does have an internal list of all the agents it is scheduled to\n",
    "activate.\n",
    "\n",
    "With that in mind, we rewrite the agent ``step`` method, like this:"
   ]
  },
  {
   "cell_type": "code",
   "execution_count": 10,
   "id": "3dc3e4c5",
   "metadata": {
    "tags": []
   },
   "outputs": [],
   "source": [
    "# Agent Step\n",
    "\n",
    "class MoneyAgent(Agent):\n",
    "    \"\"\"An agent with fixed initial wealth.\"\"\"\n",
    "\n",
    "    def __init__(self, unique_id, model):\n",
    "        super().__init__(unique_id, model)\n",
    "        self.wealth = 1\n",
    "\n",
    "    def step(self):    # < agent step: 'rules' action when activated\n",
    "        if self.wealth == 0:\n",
    "            return\n",
    "        other_agent = self.random.choice(self.model.schedule.agents)\n",
    "        other_agent.wealth += 1\n",
    "        self.wealth -= 1"
   ]
  },
  {
   "cell_type": "markdown",
   "id": "adf68651",
   "metadata": {},
   "source": [
    "# 2. Run the Agent/Model Basic"
   ]
  },
  {
   "cell_type": "markdown",
   "id": "8a9e7fb7",
   "metadata": {},
   "source": [
    "### Running your first model\n",
    "\n",
    "With that last piece in hand, it’s time for the first rudimentary run of\n",
    "the model.\n",
    "\n",
    "Now let’s create a model with 10 agents, and run it for 10 steps."
   ]
  },
  {
   "cell_type": "code",
   "execution_count": 12,
   "id": "b0cc7f7c",
   "metadata": {
    "tags": []
   },
   "outputs": [],
   "source": [
    "# Test the model\n",
    "\n",
    "model = MoneyModel(10)\n",
    "for i in range(10):\n",
    "    model.step()"
   ]
  },
  {
   "cell_type": "markdown",
   "id": "6ebc65f0",
   "metadata": {},
   "source": [
    "## Adding space\n",
    "\n",
    "Many ABMs have a spatial element, with agents moving around and\n",
    "interacting with nearby neighbors. Mesa currently supports two overall\n",
    "kinds of spaces: grid, and continuous. Grids are divided into cells, and\n",
    "agents can only be on a particular cell, like pieces on a chess board.\n",
    "Continuous space, in contrast, allows agents to have any arbitrary\n",
    "position. Both grids and continuous spaces are frequently\n",
    "[toroidal](https://en.wikipedia.org/wiki/Toroidal_graph), meaning\n",
    "that the edges wrap around, with cells on the right edge connected to\n",
    "those on the left edge, and the top to the bottom. This prevents some\n",
    "cells having fewer neighbors than others, or agents being able to go off\n",
    "the edge of the environment.\n",
    "\n",
    "Let’s add a simple spatial element to our model by putting our agents on\n",
    "a grid and make them walk around at random. Instead of giving their unit\n",
    "of money to any random agent, they’ll give it to an agent on the same\n",
    "cell.\n",
    "\n",
    "Mesa has two main types of grids: ``SingleGrid`` and ``MultiGrid``.\n",
    "``SingleGrid`` enforces at most one agent per cell; ``MultiGrid`` allows\n",
    "multiple agents to be in the same cell. Since we want agents to be able\n",
    "to share a cell, we use ``MultiGrid``.\n",
    "\n",
    "`from mesa.space import MultiGrid`\n",
    "\n",
    "We instantiate a grid with width and height parameters, and a boolean as\n",
    "to whether the grid is toroidal. Let’s make width and height model\n",
    "parameters, in addition to the number of agents, and have the grid\n",
    "always be toroidal. We can place agents on a grid with the grid’s\n",
    "``place_agent`` method, which takes an agent and an (x, y) tuple of the\n",
    "coordinates to place the agent.\n",
    "\n",
    "Under the hood, each agent’s position is stored in two ways: the agent\n",
    "is contained in the grid in the cell it is currently in, and the agent\n",
    "has a ``pos`` variable with an (x, y) coordinate tuple. The\n",
    "``place_agent`` method adds the coordinate to the agent automatically."
   ]
  },
  {
   "cell_type": "code",
   "execution_count": 14,
   "id": "67238034",
   "metadata": {
    "tags": []
   },
   "outputs": [],
   "source": [
    "# Adding space\n",
    "\n",
    "from mesa.space import MultiGrid\n",
    "\n",
    "class MoneyAgent(Agent):\n",
    "    \"\"\"An agent with fixed initial wealth.\"\"\"\n",
    "\n",
    "    def __init__(self, unique_id, model):\n",
    "        super().__init__(unique_id, model)\n",
    "        self.wealth = 1\n",
    "        \n",
    "    def move(self):\n",
    "        possible_steps = self.model.grid.get_neighborhood(\n",
    "            self.pos, moore=True, include_center=False\n",
    "        )\n",
    "        new_position = self.random.choice(possible_steps)\n",
    "        self.model.grid.move_agent(self, new_position)\n",
    "\n",
    "    def give_money(self):\n",
    "        cellmates = self.model.grid.get_cell_list_contents([self.pos])\n",
    "        if len(cellmates) > 1:\n",
    "            other_agent = self.random.choice(cellmates)\n",
    "            other_agent.wealth += 1\n",
    "            self.wealth -= 1\n",
    "\n",
    "    def step(self):\n",
    "        self.move()\n",
    "        if self.wealth > 0:\n",
    "            self.give_money()\n",
    "\n",
    "\n",
    "class MoneyModel(Model):\n",
    "    \"\"\"A model with some number of agents.\"\"\"\n",
    "\n",
    "    def __init__(self, N, width, height):\n",
    "        super().__init__()\n",
    "        self.num_agents = N\n",
    "        self.grid = MultiGrid(width, height, True)\n",
    "        self.schedule = RandomActivation(self)\n",
    "        \n",
    "        # Create agents\n",
    "        for i in range(self.num_agents):\n",
    "            a = MoneyAgent(i, self)\n",
    "            self.schedule.add(a)\n",
    "            # Add the agent to a random grid cell\n",
    "            x = self.random.randrange(self.grid.width)\n",
    "            y = self.random.randrange(self.grid.height)\n",
    "            self.grid.place_agent(a, (x, y))\n",
    "\n",
    "    def step(self):\n",
    "        self.schedule.step()"
   ]
  },
  {
   "cell_type": "markdown",
   "id": "8adf1f51",
   "metadata": {},
   "source": [
    "### Running the model\n",
    "\n",
    "Now we need to add to the agents’ behaviors, letting them move around\n",
    "and only give money to other agents in the same cell.\n",
    "\n",
    "First let’s handle movement, and have the agents move to a neighboring\n",
    "cell. The grid object provides a ``move_agent`` method, which like you’d\n",
    "imagine, moves an agent to a given cell. That still leaves us to get the\n",
    "possible neighboring cells to move to. There are a couple ways to do\n",
    "this. One is to use the current coordinates, and loop over all\n",
    "coordinates +/- 1 away from it. For example:\n",
    "\n",
    "```\n",
    "neighbors = []\n",
    "x, y = self.pos\n",
    "for dx in [-1, 0, 1]:\n",
    "   for dy in [-1, 0, 1]:\n",
    "       neighbors.append((x+dx, y+dy))\n",
    "```\n",
    "\n",
    "But there’s an even simpler way, using the grid’s built-in\n",
    "``get_neighborhood`` method, which returns all the neighbors of a given\n",
    "cell. This method can get two types of cell neighborhoods:\n",
    "[Moore](https://en.wikipedia.org/wiki/Moore_neighborhood) (includes\n",
    "all 8 surrounding squares), and [Von\n",
    "Neumann](https://en.wikipedia.org/wiki/Von_Neumann_neighborhood) (only\n",
    "up/down/left/right). It also needs an argument as to whether to include\n",
    "the center cell itself as one of the neighbors.\n",
    "\n",
    "That is why the agent’s ``move`` method looks like above."
   ]
  },
  {
   "cell_type": "markdown",
   "id": "3495433b",
   "metadata": {},
   "source": [
    "Let’s create a model with 50 agents on a 10x10 grid, and run it for 20\n",
    "steps."
   ]
  },
  {
   "cell_type": "code",
   "execution_count": 16,
   "id": "03bd6ada",
   "metadata": {
    "tags": []
   },
   "outputs": [],
   "source": [
    "# Test the model\n",
    "\n",
    "model = MoneyModel(50, 10, 10)\n",
    "for i in range(20):\n",
    "    model.step()"
   ]
  },
  {
   "cell_type": "markdown",
   "id": "67a73f4f",
   "metadata": {},
   "source": [
    "# 3. Visualize the Agent/Model"
   ]
  },
  {
   "cell_type": "code",
   "execution_count": 18,
   "id": "d3f0bc0d",
   "metadata": {
    "tags": []
   },
   "outputs": [],
   "source": [
    "from mesa.visualization.modules import CanvasGrid\n",
    "from mesa.visualization.ModularVisualization import ModularServer\n",
    "\n",
    "def agent_portrayal(agent):\n",
    "    '''\n",
    "    Portrayal Method for canvas\n",
    "    '''\n",
    "    if agent is None:\n",
    "        return\n",
    "    portrayal = {\"Shape\": \"circle\", \"r\": 0.5, \"Filled\": \"true\", \"Layer\": 0}\n",
    "\n",
    "    if agent.wealth == 0:\n",
    "        portrayal[\"Color\"] = \"Red\"\n",
    "    else:\n",
    "        portrayal[\"Color\"] = \"Blue\"\n",
    "    \n",
    "    return portrayal\n",
    "\n",
    "grid = CanvasGrid(agent_portrayal, 10, 10, 500, 500)\n",
    "\n",
    "model_params = {\n",
    "    \"N\": 100,\n",
    "    \"width\": 10,\n",
    "    \"height\": 10,\n",
    "}\n",
    "\n",
    "server = ModularServer(MoneyModel,\n",
    "                       [grid],\n",
    "                       \"Money Model\",\n",
    "                       model_params)"
   ]
  },
  {
   "cell_type": "markdown",
   "id": "31516429",
   "metadata": {},
   "source": [
    "# 4. Run the Agent/Model Visualization\n",
    "\n",
    "NOTE: Runtime server error is normal and expected when running visualization code below. This visualization code was made for command line execution (not explicitly for Jupyter Notebooks), so we are **forcing** it's use.\n",
    "\n",
    "Just make sure to increment the port number counter each visualization run, to be able to use it."
   ]
  },
  {
   "cell_type": "code",
   "execution_count": 17,
   "id": "60c09f74",
   "metadata": {
    "tags": []
   },
   "outputs": [
    {
     "name": "stdout",
     "output_type": "stream",
     "text": [
      "Interface starting at http://127.0.0.1:8521\n"
     ]
    },
    {
     "ename": "RuntimeError",
     "evalue": "This event loop is already running",
     "output_type": "error",
     "traceback": [
      "\u001b[1;31m---------------------------------------------------------------------------\u001b[0m",
      "\u001b[1;31mRuntimeError\u001b[0m                              Traceback (most recent call last)",
      "Cell \u001b[1;32mIn[17], line 4\u001b[0m\n\u001b[0;32m      1\u001b[0m \u001b[38;5;66;03m# Press STOP button above at the end of simulation\u001b[39;00m\n\u001b[0;32m      3\u001b[0m server\u001b[38;5;241m.\u001b[39mport \u001b[38;5;241m=\u001b[39m \u001b[38;5;241m8521\u001b[39m \u001b[38;5;66;03m# The default\u001b[39;00m\n\u001b[1;32m----> 4\u001b[0m server\u001b[38;5;241m.\u001b[39mlaunch()\n",
      "File \u001b[1;32m~\\anaconda3\\Lib\\site-packages\\mesa_viz_tornado\\ModularVisualization.py:407\u001b[0m, in \u001b[0;36mModularServer.launch\u001b[1;34m(self, port, open_browser)\u001b[0m\n\u001b[0;32m    405\u001b[0m tornado\u001b[38;5;241m.\u001b[39mautoreload\u001b[38;5;241m.\u001b[39mstart()\n\u001b[0;32m    406\u001b[0m \u001b[38;5;28;01mtry\u001b[39;00m:\n\u001b[1;32m--> 407\u001b[0m     tornado\u001b[38;5;241m.\u001b[39mioloop\u001b[38;5;241m.\u001b[39mIOLoop\u001b[38;5;241m.\u001b[39mcurrent()\u001b[38;5;241m.\u001b[39mstart()\n\u001b[0;32m    408\u001b[0m \u001b[38;5;28;01mexcept\u001b[39;00m \u001b[38;5;167;01mKeyboardInterrupt\u001b[39;00m:\n\u001b[0;32m    409\u001b[0m     tornado\u001b[38;5;241m.\u001b[39mioloop\u001b[38;5;241m.\u001b[39mIOLoop\u001b[38;5;241m.\u001b[39mcurrent()\u001b[38;5;241m.\u001b[39mstop()\n",
      "File \u001b[1;32m~\\anaconda3\\Lib\\site-packages\\tornado\\platform\\asyncio.py:195\u001b[0m, in \u001b[0;36mBaseAsyncIOLoop.start\u001b[1;34m(self)\u001b[0m\n\u001b[0;32m    194\u001b[0m \u001b[38;5;28;01mdef\u001b[39;00m \u001b[38;5;21mstart\u001b[39m(\u001b[38;5;28mself\u001b[39m) \u001b[38;5;241m-\u001b[39m\u001b[38;5;241m>\u001b[39m \u001b[38;5;28;01mNone\u001b[39;00m:\n\u001b[1;32m--> 195\u001b[0m     \u001b[38;5;28mself\u001b[39m\u001b[38;5;241m.\u001b[39masyncio_loop\u001b[38;5;241m.\u001b[39mrun_forever()\n",
      "File \u001b[1;32m~\\anaconda3\\Lib\\asyncio\\base_events.py:596\u001b[0m, in \u001b[0;36mBaseEventLoop.run_forever\u001b[1;34m(self)\u001b[0m\n\u001b[0;32m    594\u001b[0m \u001b[38;5;250m\u001b[39m\u001b[38;5;124;03m\"\"\"Run until stop() is called.\"\"\"\u001b[39;00m\n\u001b[0;32m    595\u001b[0m \u001b[38;5;28mself\u001b[39m\u001b[38;5;241m.\u001b[39m_check_closed()\n\u001b[1;32m--> 596\u001b[0m \u001b[38;5;28mself\u001b[39m\u001b[38;5;241m.\u001b[39m_check_running()\n\u001b[0;32m    597\u001b[0m \u001b[38;5;28mself\u001b[39m\u001b[38;5;241m.\u001b[39m_set_coroutine_origin_tracking(\u001b[38;5;28mself\u001b[39m\u001b[38;5;241m.\u001b[39m_debug)\n\u001b[0;32m    599\u001b[0m old_agen_hooks \u001b[38;5;241m=\u001b[39m sys\u001b[38;5;241m.\u001b[39mget_asyncgen_hooks()\n",
      "File \u001b[1;32m~\\anaconda3\\Lib\\asyncio\\base_events.py:588\u001b[0m, in \u001b[0;36mBaseEventLoop._check_running\u001b[1;34m(self)\u001b[0m\n\u001b[0;32m    586\u001b[0m \u001b[38;5;28;01mdef\u001b[39;00m \u001b[38;5;21m_check_running\u001b[39m(\u001b[38;5;28mself\u001b[39m):\n\u001b[0;32m    587\u001b[0m     \u001b[38;5;28;01mif\u001b[39;00m \u001b[38;5;28mself\u001b[39m\u001b[38;5;241m.\u001b[39mis_running():\n\u001b[1;32m--> 588\u001b[0m         \u001b[38;5;28;01mraise\u001b[39;00m \u001b[38;5;167;01mRuntimeError\u001b[39;00m(\u001b[38;5;124m'\u001b[39m\u001b[38;5;124mThis event loop is already running\u001b[39m\u001b[38;5;124m'\u001b[39m)\n\u001b[0;32m    589\u001b[0m     \u001b[38;5;28;01mif\u001b[39;00m events\u001b[38;5;241m.\u001b[39m_get_running_loop() \u001b[38;5;129;01mis\u001b[39;00m \u001b[38;5;129;01mnot\u001b[39;00m \u001b[38;5;28;01mNone\u001b[39;00m:\n\u001b[0;32m    590\u001b[0m         \u001b[38;5;28;01mraise\u001b[39;00m \u001b[38;5;167;01mRuntimeError\u001b[39;00m(\n\u001b[0;32m    591\u001b[0m             \u001b[38;5;124m'\u001b[39m\u001b[38;5;124mCannot run the event loop while another loop is running\u001b[39m\u001b[38;5;124m'\u001b[39m)\n",
      "\u001b[1;31mRuntimeError\u001b[0m: This event loop is already running"
     ]
    }
   ],
   "source": [
    "# Press STOP button above at the end of simulation\n",
    "\n",
    "server.port = 8521 # The default\n",
    "server.launch() # Uncomment to run the visalization"
   ]
  },
  {
   "cell_type": "markdown",
   "id": "12e2d46d",
   "metadata": {},
   "source": [
    "# 5. Collect data to Analyze the Agent/Model"
   ]
  },
  {
   "cell_type": "markdown",
   "id": "d2f1c4a2",
   "metadata": {},
   "source": [
    "### Collecting Data\n",
    "\n",
    "So far, at the end of every model run, we’ve had to go and write our own\n",
    "code to get the data out of the model. This has two problems: it isn’t\n",
    "very efficient, and it only gives us end results. If we wanted to know\n",
    "the wealth of each agent at each step, we’d have to add that to the loop\n",
    "of executing steps, and figure out some way to store the data.\n",
    "\n",
    "Since one of the main goals of agent-based modeling is generating data\n",
    "for analysis, Mesa provides a class which can handle data collection and\n",
    "storage for us and make it easier to analyze.\n",
    "\n",
    "The data collector stores three categories of data: model-level\n",
    "variables, agent-level variables, and tables (which are a catch-all for\n",
    "everything else). Model- and agent-level variables are added to the data\n",
    "collector along with a function for collecting them. Model-level\n",
    "collection functions take a model object as an input, while agent-level\n",
    "collection functions take an agent object as an input. Both then return\n",
    "a value computed from the model or each agent at their current state.\n",
    "When the data collector’s ``collect`` method is called, with a model\n",
    "object as its argument, it applies each model-level collection function\n",
    "to the model, and stores the results in a dictionary, associating the\n",
    "current value with the current step of the model. Similarly, the method\n",
    "applies each agent-level collection function to each agent currently in\n",
    "the schedule, associating the resulting value with the step of the\n",
    "model, and the agent’s ``unique_id``.\n",
    "\n",
    "Let’s add a DataCollector to the model, and collect two variables. At\n",
    "the agent level, we want to collect every agent’s wealth at every step.\n",
    "At the model level, let’s measure the model’s [Gini\n",
    "Coefficient](https://en.wikipedia.org/wiki/Gini_coefficient), a\n",
    "measure of wealth inequality.\n",
    "\n",
    "At every step of the model, the datacollector will collect and store the\n",
    "model-level current Gini coefficient, as well as each agent’s wealth,\n",
    "associating each with the current step."
   ]
  },
  {
   "cell_type": "code",
   "execution_count": 22,
   "id": "2d450568",
   "metadata": {},
   "outputs": [],
   "source": [
    "# Collecting Data\n",
    "\n",
    "from mesa.datacollection import DataCollector\n",
    "from mesa.space import MultiGrid\n",
    "\n",
    "def compute_gini(model):\n",
    "    agent_wealths = [agent.wealth for agent in model.schedule.agents]\n",
    "    x = sorted(agent_wealths)\n",
    "    N = model.num_agents\n",
    "    B = sum(xi * (N - i) for i, xi in enumerate(x)) / (N * sum(x))\n",
    "    return 1 + (1 / N) - 2 * B\n",
    "\n",
    "\n",
    "class MoneyAgent(Agent):\n",
    "    \"\"\"An agent with fixed initial wealth.\"\"\"\n",
    "\n",
    "    def __init__(self, unique_id, model):\n",
    "        super().__init__(unique_id, model)\n",
    "        self.wealth = 1\n",
    "        \n",
    "    def move(self):\n",
    "        possible_steps = self.model.grid.get_neighborhood(\n",
    "            self.pos, moore=True, include_center=False\n",
    "        )\n",
    "        new_position = self.random.choice(possible_steps)\n",
    "        self.model.grid.move_agent(self, new_position)\n",
    "\n",
    "    def give_money(self):\n",
    "        cellmates = self.model.grid.get_cell_list_contents([self.pos])\n",
    "        if len(cellmates) > 1:\n",
    "            other = self.random.choice(cellmates)\n",
    "            other.wealth += 1\n",
    "            self.wealth -= 1\n",
    "\n",
    "    def step(self):\n",
    "        self.move()\n",
    "        if self.wealth > 0:\n",
    "            self.give_money()\n",
    "\n",
    "\n",
    "class MoneyModel(Model):\n",
    "    \"\"\"A model with some number of agents.\"\"\"\n",
    "\n",
    "    def __init__(self, N, width, height):\n",
    "        super().__init__()\n",
    "        self.num_agents = N\n",
    "        self.grid = MultiGrid(width, height, True)\n",
    "        self.schedule = RandomActivation(self)\n",
    "        \n",
    "        # Create agents\n",
    "        for i in range(self.num_agents):\n",
    "            a = MoneyAgent(i, self)\n",
    "            self.schedule.add(a)\n",
    "            # Add the agent to a random grid cell\n",
    "            x = self.random.randrange(self.grid.width)\n",
    "            y = self.random.randrange(self.grid.height)\n",
    "            self.grid.place_agent(a, (x, y))\n",
    "\n",
    "        self.datacollector = DataCollector(    # < Note that we have both an agent and model data collector\n",
    "            model_reporters={\"Gini\": compute_gini}, agent_reporters={\"Wealth\": \"wealth\"}\n",
    "        )\n",
    "\n",
    "    def step(self):\n",
    "        self.datacollector.collect(self)\n",
    "        self.schedule.step()\n",
    "        "
   ]
  },
  {
   "cell_type": "code",
   "execution_count": 28,
   "id": "cc07c843-087a-44f6-9be1-b97dea297719",
   "metadata": {
    "collapsed": true,
    "jupyter": {
     "outputs_hidden": true
    }
   },
   "outputs": [
    {
     "name": "stdout",
     "output_type": "stream",
     "text": [
      "Help on class MultiGrid in module mesa.space:\n",
      "\n",
      "class MultiGrid(_PropertyGrid)\n",
      " |  MultiGrid(width: 'int', height: 'int', torus: 'bool', property_layers: 'None | PropertyLayer | list[PropertyLayer]' = None)\n",
      " |  \n",
      " |  Rectangular grid where each cell can contain more than one agent.\n",
      " |  \n",
      " |  Grid cells are indexed by [x, y], where [0, 0] is assumed to be at\n",
      " |  bottom-left and [width-1, height-1] is the top-right. If a grid is\n",
      " |  toroidal, the top and bottom, and left and right, edges wrap to each other.\n",
      " |  \n",
      " |  This class maintains an `empties` property, which is a set of coordinates\n",
      " |  for all cells that currently contain no agents. This property is updated\n",
      " |  automatically as agents are added to or removed from the grid.\n",
      " |  \n",
      " |  Properties:\n",
      " |      width, height: The grid's width and height.\n",
      " |      torus: Boolean which determines whether to treat the grid as a torus.\n",
      " |      empties: Returns a set of (x, y) tuples for all empty cells.\n",
      " |  \n",
      " |  Method resolution order:\n",
      " |      MultiGrid\n",
      " |      _PropertyGrid\n",
      " |      _Grid\n",
      " |      builtins.object\n",
      " |  \n",
      " |  Methods defined here:\n",
      " |  \n",
      " |  iter_cell_list_contents = wrapper(grid_instance, positions) -> 'Any'\n",
      " |  \n",
      " |  iter_neighbors(self, pos: 'Coordinate', moore: 'bool', include_center: 'bool' = False, radius: 'int' = 1) -> 'Iterator[Agent]'\n",
      " |      Return an iterator over neighbors to a certain point.\n",
      " |      \n",
      " |      Args:\n",
      " |          pos: Coordinates for the neighborhood to get.\n",
      " |          moore: If True, return Moore neighborhood\n",
      " |                  (including diagonals)\n",
      " |                 If False, return Von Neumann neighborhood\n",
      " |                   (exclude diagonals)\n",
      " |          include_center: If True, return the (x, y) cell as well.\n",
      " |                          Otherwise,\n",
      " |                          return surrounding cells only.\n",
      " |          radius: radius, in cells, of neighborhood to get.\n",
      " |      \n",
      " |      Returns:\n",
      " |          An iterator of non-None objects in the given neighborhood;\n",
      " |          at most 9 if Moore, 5 if Von-Neumann\n",
      " |          (8 and 4 if not including the center).\n",
      " |  \n",
      " |  place_agent = wrapper(self, agent, *args, **kwargs)\n",
      " |  \n",
      " |  remove_agent(self, agent: 'Agent') -> 'None'\n",
      " |      Remove the agent from the given location and set its pos attribute to None.\n",
      " |  \n",
      " |  ----------------------------------------------------------------------\n",
      " |  Static methods defined here:\n",
      " |  \n",
      " |  default_val() -> 'MultiGridContent'\n",
      " |      Default value for new cell elements.\n",
      " |  \n",
      " |  ----------------------------------------------------------------------\n",
      " |  Data and other attributes defined here:\n",
      " |  \n",
      " |  __annotations__ = {'grid': 'list[list[MultiGridContent]]'}\n",
      " |  \n",
      " |  ----------------------------------------------------------------------\n",
      " |  Methods inherited from _PropertyGrid:\n",
      " |  \n",
      " |  __init__(self, width: 'int', height: 'int', torus: 'bool', property_layers: 'None | PropertyLayer | list[PropertyLayer]' = None)\n",
      " |      Initializes a new _PropertyGrid instance with specified dimensions and optional property layers.\n",
      " |      \n",
      " |      Args:\n",
      " |          width (int): The width of the grid (number of columns).\n",
      " |          height (int): The height of the grid (number of rows).\n",
      " |          torus (bool): A boolean indicating if the grid should behave like a torus.\n",
      " |          property_layers (None | PropertyLayer | list[PropertyLayer], optional): A single PropertyLayer instance,\n",
      " |              a list of PropertyLayer instances, or None to initialize without any property layers.\n",
      " |      \n",
      " |      Raises:\n",
      " |          ValueError: If a property layer's dimensions do not match the grid dimensions.\n",
      " |  \n",
      " |  add_property_layer(self, property_layer: 'PropertyLayer')\n",
      " |      Adds a new property layer to the grid.\n",
      " |      \n",
      " |      Args:\n",
      " |          property_layer (PropertyLayer): The PropertyLayer instance to be added to the grid.\n",
      " |      \n",
      " |      Raises:\n",
      " |          ValueError: If a property layer with the same name already exists in the grid.\n",
      " |          ValueError: If the dimensions of the property layer do not match the grid's dimensions.\n",
      " |  \n",
      " |  get_neighborhood_mask(self, pos: 'Coordinate', moore: 'bool', include_center: 'bool', radius: 'int') -> 'np.ndarray'\n",
      " |      Generate a boolean mask representing the neighborhood.\n",
      " |      Helper method for select_cells_multi_properties() and move_agent_to_random_cell()\n",
      " |      \n",
      " |      Args:\n",
      " |          pos (Coordinate): Center of the neighborhood.\n",
      " |          moore (bool): True for Moore neighborhood, False for Von Neumann.\n",
      " |          include_center (bool): Include the central cell in the neighborhood.\n",
      " |          radius (int): The radius of the neighborhood.\n",
      " |      \n",
      " |      Returns:\n",
      " |          np.ndarray: A boolean mask representing the neighborhood.\n",
      " |  \n",
      " |  remove_property_layer(self, property_name: 'str')\n",
      " |      Removes a property layer from the grid by its name.\n",
      " |      \n",
      " |      Args:\n",
      " |          property_name (str): The name of the property layer to be removed.\n",
      " |      \n",
      " |      Raises:\n",
      " |          ValueError: If a property layer with the given name does not exist in the grid.\n",
      " |  \n",
      " |  select_cells(self, conditions: 'dict | None' = None, extreme_values: 'dict | None' = None, masks: 'np.ndarray | list[np.ndarray]' = None, only_empty: 'bool' = False, return_list: 'bool' = True) -> 'list[Coordinate] | np.ndarray'\n",
      " |      Select cells based on property conditions, extreme values, and/or masks, with an option to only select empty cells.\n",
      " |      \n",
      " |      Args:\n",
      " |          conditions (dict): A dictionary where keys are property names and values are callables that return a boolean when applied.\n",
      " |          extreme_values (dict): A dictionary where keys are property names and values are either 'highest' or 'lowest'.\n",
      " |          masks (np.ndarray | list[np.ndarray], optional): A mask or list of masks to restrict the selection.\n",
      " |          only_empty (bool, optional): If True, only select cells that are empty. Default is False.\n",
      " |          return_list (bool, optional): If True, return a list of coordinates, otherwise return a mask.\n",
      " |      \n",
      " |      Returns:\n",
      " |          Union[list[Coordinate], np.ndarray]: Coordinates where conditions are satisfied or the combined mask.\n",
      " |  \n",
      " |  ----------------------------------------------------------------------\n",
      " |  Readonly properties inherited from _PropertyGrid:\n",
      " |  \n",
      " |  empty_mask\n",
      " |      Returns a boolean mask indicating empty cells on the grid.\n",
      " |  \n",
      " |  ----------------------------------------------------------------------\n",
      " |  Methods inherited from _Grid:\n",
      " |  \n",
      " |  __getitem__(self, index)\n",
      " |      Access contents from the grid.\n",
      " |  \n",
      " |  __iter__(self) -> 'Iterator[GridContent]'\n",
      " |      Create an iterator that chains the rows of the grid together\n",
      " |      as if it is one list:\n",
      " |  \n",
      " |  build_empties(self) -> 'None'\n",
      " |  \n",
      " |  coord_iter(self) -> 'Iterator[tuple[GridContent, Coordinate]]'\n",
      " |      An iterator that returns positions as well as cell contents.\n",
      " |  \n",
      " |  exists_empty_cells(self) -> 'bool'\n",
      " |      Return True if any cells empty else False.\n",
      " |  \n",
      " |  get_cell_list_contents = wrapper(grid_instance, positions) -> 'Any'\n",
      " |  \n",
      " |  get_neighborhood(self, pos: 'Coordinate', moore: 'bool', include_center: 'bool' = False, radius: 'int' = 1) -> 'Sequence[Coordinate]'\n",
      " |      Return a list of cells that are in the neighborhood of a\n",
      " |      certain point.\n",
      " |      \n",
      " |      Args:\n",
      " |          pos: Coordinate tuple for the neighborhood to get.\n",
      " |          moore: If True, return Moore neighborhood\n",
      " |                 (including diagonals)\n",
      " |                 If False, return Von Neumann neighborhood\n",
      " |                 (exclude diagonals)\n",
      " |          include_center: If True, return the (x, y) cell as well.\n",
      " |                          Otherwise, return surrounding cells only.\n",
      " |          radius: radius, in cells, of neighborhood to get.\n",
      " |      \n",
      " |      Returns:\n",
      " |          A list of coordinate tuples representing the neighborhood;\n",
      " |          With radius 1, at most 9 if Moore, 5 if Von Neumann (8 and 4\n",
      " |          if not including the center).\n",
      " |  \n",
      " |  get_neighbors(self, pos: 'Coordinate', moore: 'bool', include_center: 'bool' = False, radius: 'int' = 1) -> 'list[Agent]'\n",
      " |      Return a list of neighbors to a certain point.\n",
      " |      \n",
      " |      Args:\n",
      " |          pos: Coordinate tuple for the neighborhood to get.\n",
      " |          moore: If True, return Moore neighborhood\n",
      " |                  (including diagonals)\n",
      " |                 If False, return Von Neumann neighborhood\n",
      " |                   (exclude diagonals)\n",
      " |          include_center: If True, return the (x, y) cell as well.\n",
      " |                          Otherwise,\n",
      " |                          return surrounding cells only.\n",
      " |          radius: radius, in cells, of neighborhood to get.\n",
      " |      \n",
      " |      Returns:\n",
      " |          A list of non-None objects in the given neighborhood;\n",
      " |          at most 9 if Moore, 5 if Von-Neumann\n",
      " |          (8 and 4 if not including the center).\n",
      " |  \n",
      " |  is_cell_empty(self, pos: 'Coordinate') -> 'bool'\n",
      " |      Returns a bool of the contents of a cell.\n",
      " |  \n",
      " |  iter_neighborhood(self, pos: 'Coordinate', moore: 'bool', include_center: 'bool' = False, radius: 'int' = 1) -> 'Iterator[Coordinate]'\n",
      " |      Return an iterator over cell coordinates that are in the\n",
      " |      neighborhood of a certain point.\n",
      " |      \n",
      " |      Args:\n",
      " |          pos: Coordinate tuple for the neighborhood to get.\n",
      " |          moore: If True, return Moore neighborhood\n",
      " |                      (including diagonals)\n",
      " |                 If False, return Von Neumann neighborhood\n",
      " |                      (exclude diagonals)\n",
      " |          include_center: If True, return the (x, y) cell as well.\n",
      " |                          Otherwise, return surrounding cells only.\n",
      " |          radius: radius, in cells, of neighborhood to get.\n",
      " |      \n",
      " |      Returns:\n",
      " |          An iterator of coordinate tuples representing the neighborhood. For\n",
      " |          example with radius 1, it will return list with number of elements\n",
      " |          equals at most 9 (8) if Moore, 5 (4) if Von Neumann (if not\n",
      " |          including the center).\n",
      " |  \n",
      " |  move_agent(self, agent: 'Agent', pos: 'Coordinate') -> 'None'\n",
      " |      Move an agent from its current position to a new position.\n",
      " |      \n",
      " |      Args:\n",
      " |          agent: Agent object to move. Assumed to have its current location\n",
      " |                 stored in a 'pos' tuple.\n",
      " |          pos: Tuple of new position to move the agent to.\n",
      " |  \n",
      " |  move_agent_to_one_of(self, agent: 'Agent', pos: 'list[Coordinate]', selection: 'str' = 'random', handle_empty: 'str | None' = None) -> 'None'\n",
      " |      Move an agent to one of the given positions.\n",
      " |      \n",
      " |      Args:\n",
      " |          agent: Agent object to move. Assumed to have its current location stored in a 'pos' tuple.\n",
      " |          pos: List of possible positions.\n",
      " |          selection: String, either \"random\" (default) or \"closest\". If \"closest\" is selected and multiple\n",
      " |                     cells are the same distance, one is chosen randomly.\n",
      " |          handle_empty: String, either \"warning\", \"error\" or None (default). If \"warning\" or \"error\" is selected\n",
      " |                        and no positions are given (an empty list), a warning or error is raised respectively.\n",
      " |  \n",
      " |  move_to_empty(self, agent: 'Agent') -> 'None'\n",
      " |      Moves agent to a random empty cell, vacating agent's old cell.\n",
      " |  \n",
      " |  out_of_bounds(self, pos: 'Coordinate') -> 'bool'\n",
      " |      Determines whether position is off the grid, returns the out of\n",
      " |      bounds coordinate.\n",
      " |  \n",
      " |  swap_pos(self, agent_a: 'Agent', agent_b: 'Agent') -> 'None'\n",
      " |      Swap agents positions\n",
      " |  \n",
      " |  torus_adj(self, pos: 'Coordinate') -> 'Coordinate'\n",
      " |      Convert coordinate, handling torus looping.\n",
      " |  \n",
      " |  ----------------------------------------------------------------------\n",
      " |  Readonly properties inherited from _Grid:\n",
      " |  \n",
      " |  empties\n",
      " |  \n",
      " |  ----------------------------------------------------------------------\n",
      " |  Data descriptors inherited from _Grid:\n",
      " |  \n",
      " |  __dict__\n",
      " |      dictionary for instance variables (if defined)\n",
      " |  \n",
      " |  __weakref__\n",
      " |      list of weak references to the object (if defined)\n",
      "\n"
     ]
    }
   ],
   "source": [
    "help(MultiGrid)"
   ]
  },
  {
   "cell_type": "markdown",
   "id": "b4082398",
   "metadata": {},
   "source": [
    "### Running the model\n",
    "\n",
    "We run the model just as we did above. It is especially in those cases an interactive\n",
    "session, especially via a Notebook, comes in handy: the DataCollector\n",
    "can export the data it’s collected as a pandas DataFrame, for easy\n",
    "interactive analysis."
   ]
  },
  {
   "cell_type": "code",
   "execution_count": 33,
   "id": "32f9bb96",
   "metadata": {},
   "outputs": [],
   "source": [
    "# Test the model\n",
    "\n",
    "model = MoneyModel(50, 10, 10)\n",
    "for i in range(100):\n",
    "    model.step()"
   ]
  },
  {
   "cell_type": "markdown",
   "id": "942d3cd6",
   "metadata": {},
   "source": [
    "To get the series of Gini coefficients as a pandas DataFrame:"
   ]
  },
  {
   "cell_type": "markdown",
   "id": "9ed4ee5a",
   "metadata": {},
   "source": [
    "# 6. Run the Agent/Model Analysis"
   ]
  },
  {
   "cell_type": "code",
   "execution_count": 23,
   "id": "a8b6be24",
   "metadata": {},
   "outputs": [
    {
     "data": {
      "text/plain": [
       "<Axes: >"
      ]
     },
     "execution_count": 23,
     "metadata": {},
     "output_type": "execute_result"
    },
    {
     "data": {
      "image/png": "[encoded data removed]",
      "text/plain": [
       "<Figure size 640x480 with 1 Axes>"
      ]
     },
     "metadata": {},
     "output_type": "display_data"
    }
   ],
   "source": [
    "# Plot coefficients\n",
    "\n",
    "gini = model.datacollector.get_model_vars_dataframe()\n",
    "gini.plot()"
   ]
  },
  {
   "cell_type": "markdown",
   "id": "40c0b4c0",
   "metadata": {},
   "source": [
    "Similarly, we can get the agent-wealth data:"
   ]
  },
  {
   "cell_type": "code",
   "execution_count": 25,
   "id": "80149f9b",
   "metadata": {},
   "outputs": [
    {
     "data": {
      "text/html": [
       "<div>\n",
       "<style scoped>\n",
       "    .dataframe tbody tr th:only-of-type {\n",
       "        vertical-align: middle;\n",
       "    }\n",
       "\n",
       "    .dataframe tbody tr th {\n",
       "        vertical-align: top;\n",
       "    }\n",
       "\n",
       "    .dataframe thead th {\n",
       "        text-align: right;\n",
       "    }\n",
       "</style>\n",
       "<table border=\"1\" class=\"dataframe\">\n",
       "  <thead>\n",
       "    <tr style=\"text-align: right;\">\n",
       "      <th></th>\n",
       "      <th></th>\n",
       "      <th>Wealth</th>\n",
       "    </tr>\n",
       "    <tr>\n",
       "      <th>Step</th>\n",
       "      <th>AgentID</th>\n",
       "      <th></th>\n",
       "    </tr>\n",
       "  </thead>\n",
       "  <tbody>\n",
       "    <tr>\n",
       "      <th rowspan=\"5\" valign=\"top\">0</th>\n",
       "      <th>0</th>\n",
       "      <td>1</td>\n",
       "    </tr>\n",
       "    <tr>\n",
       "      <th>1</th>\n",
       "      <td>1</td>\n",
       "    </tr>\n",
       "    <tr>\n",
       "      <th>2</th>\n",
       "      <td>1</td>\n",
       "    </tr>\n",
       "    <tr>\n",
       "      <th>3</th>\n",
       "      <td>1</td>\n",
       "    </tr>\n",
       "    <tr>\n",
       "      <th>4</th>\n",
       "      <td>1</td>\n",
       "    </tr>\n",
       "  </tbody>\n",
       "</table>\n",
       "</div>"
      ],
      "text/plain": [
       "              Wealth\n",
       "Step AgentID        \n",
       "0    0             1\n",
       "     1             1\n",
       "     2             1\n",
       "     3             1\n",
       "     4             1"
      ]
     },
     "execution_count": 25,
     "metadata": {},
     "output_type": "execute_result"
    }
   ],
   "source": [
    "# Get agent data\n",
    "agent_wealth = model.datacollector.get_agent_vars_dataframe()\n",
    "agent_wealth.head()"
   ]
  },
  {
   "cell_type": "markdown",
   "id": "782b2cda",
   "metadata": {},
   "source": [
    "You’ll see that the DataFrame’s index is pairings of model step and\n",
    "agent ID. You can analyze it the way you would any other DataFrame. For\n",
    "example, to get a histogram of agent wealth at the model’s end:"
   ]
  },
  {
   "cell_type": "code",
   "execution_count": 27,
   "id": "c5764828",
   "metadata": {},
   "outputs": [
    {
     "data": {
      "text/plain": [
       "<Axes: >"
      ]
     },
     "execution_count": 27,
     "metadata": {},
     "output_type": "execute_result"
    },
    {
     "data": {
      "image/png": "[encoded data removed]",
      "text/plain": [
       "<Figure size 640x480 with 1 Axes>"
      ]
     },
     "metadata": {},
     "output_type": "display_data"
    }
   ],
   "source": [
    "# Plot histogram of agents wealth\n",
    "\n",
    "end_wealth = agent_wealth.xs(99, level=\"Step\")\n",
    "end_wealth.Wealth.hist()"
   ]
  },
  {
   "cell_type": "markdown",
   "id": "c64dfb6d",
   "metadata": {},
   "source": [
    "Or to plot the wealth of a given agent (in this example, agent 14):"
   ]
  },
  {
   "cell_type": "code",
   "execution_count": 29,
   "id": "54811db8",
   "metadata": {},
   "outputs": [
    {
     "data": {
      "text/plain": [
       "<Axes: xlabel='Step'>"
      ]
     },
     "execution_count": 29,
     "metadata": {},
     "output_type": "execute_result"
    },
    {
     "data": {
      "image/png": "[encoded data removed]",
      "text/plain": [
       "<Figure size 640x480 with 1 Axes>"
      ]
     },
     "metadata": {},
     "output_type": "display_data"
    }
   ],
   "source": [
    "# Plot the trend of wealth of given agent\n",
    "\n",
    "one_agent_wealth = agent_wealth.xs(14, level=\"AgentID\")\n",
    "one_agent_wealth.Wealth.plot()"
   ]
  },
  {
   "cell_type": "markdown",
   "id": "bc99e6da",
   "metadata": {},
   "source": [
    "# 7. Create iteration Batch of the Agent/Model"
   ]
  },
  {
   "cell_type": "markdown",
   "id": "01685e8c",
   "metadata": {},
   "source": [
    "### Batch Run\n",
    "\n",
    "Like we mentioned above, you usually won’t run a model only once, but\n",
    "multiple times, with fixed parameters to find the overall distributions\n",
    "the model generates, and with varying parameters to analyze how they\n",
    "drive the model’s outputs and behaviors. Instead of needing to write\n",
    "nested for-loops for each model, Mesa provides a ``batch_run`` function\n",
    "which automates it for you.\n",
    "\n",
    "The batch runner also requires an additional variable ``self.running``\n",
    "for the MoneyModel class. This variable enables conditional shut off of\n",
    "the model once a condition is met. In this example it will be set as\n",
    "True indefinitely."
   ]
  },
  {
   "cell_type": "code",
   "execution_count": 31,
   "id": "b37f034b",
   "metadata": {},
   "outputs": [],
   "source": [
    "# Batch Run\n",
    "\n",
    "def compute_gini(model):\n",
    "    agent_wealths = [agent.wealth for agent in model.schedule.agents]\n",
    "    x = sorted(agent_wealths)\n",
    "    N = model.num_agents\n",
    "    B = sum(xi * (N - i) for i, xi in enumerate(x)) / (N * sum(x))\n",
    "    return 1 + (1 / N) - 2 * B\n",
    "\n",
    "\n",
    "class MoneyAgent(Agent):\n",
    "    \"\"\"An agent with fixed initial wealth.\"\"\"\n",
    "\n",
    "    def __init__(self, unique_id, model):\n",
    "        super().__init__(unique_id, model)\n",
    "        self.wealth = 1\n",
    "        \n",
    "    def move(self):\n",
    "        possible_steps = self.model.grid.get_neighborhood(\n",
    "            self.pos, moore=True, include_center=False\n",
    "        )\n",
    "        new_position = self.random.choice(possible_steps)\n",
    "        self.model.grid.move_agent(self, new_position)\n",
    "\n",
    "    def give_money(self):\n",
    "        cellmates = self.model.grid.get_cell_list_contents([self.pos])\n",
    "        if len(cellmates) > 1:\n",
    "            other = self.random.choice(cellmates)\n",
    "            other.wealth += 1\n",
    "            self.wealth -= 1\n",
    "\n",
    "    def step(self):\n",
    "        self.move()\n",
    "        if self.wealth > 0:\n",
    "            self.give_money()\n",
    "\n",
    "\n",
    "class MoneyModel(Model):\n",
    "    \"\"\"A model with some number of agents.\"\"\"\n",
    "\n",
    "    def __init__(self, N, width, height):\n",
    "        super().__init__()\n",
    "        self.num_agents = N\n",
    "        self.grid = MultiGrid(width, height, True)\n",
    "        self.schedule = RandomActivation(self)\n",
    "        self.running = True\n",
    "        \n",
    "        # Create agents\n",
    "        for i in range(self.num_agents):\n",
    "            a = MoneyAgent(i, self)\n",
    "            self.schedule.add(a)\n",
    "            # Add the agent to a random grid cell\n",
    "            x = self.random.randrange(self.grid.width)\n",
    "            y = self.random.randrange(self.grid.height)\n",
    "            self.grid.place_agent(a, (x, y))\n",
    "\n",
    "        self.datacollector = DataCollector(\n",
    "            model_reporters={\"Gini\": compute_gini}, agent_reporters={\"Wealth\": \"wealth\"}\n",
    "        )\n",
    "\n",
    "    def step(self):\n",
    "        self.datacollector.collect(self)\n",
    "        self.schedule.step()"
   ]
  },
  {
   "cell_type": "markdown",
   "id": "cae6701a",
   "metadata": {},
   "source": [
    "# 8. Run the Agent/Model Batch"
   ]
  },
  {
   "cell_type": "markdown",
   "id": "94fb4935",
   "metadata": {},
   "source": [
    "### Running the model\n",
    "\n",
    "We call ``batch_run`` with the following arguments:\n",
    "\n",
    "* ``model_cls``\n",
    "\n",
    "  The model class that is used for the batch run.\n",
    "\n",
    "* ``parameters``\n",
    "\n",
    "  A dictionary containing all the parameters of the model class and\n",
    "  desired values to use for the batch run as key-value pairs. Each\n",
    "  value can either be fixed ( e.g. ``{\"height\": 10, \"width\": 10}``)\n",
    "  or an iterable (e.g. ``{\"N\": range(10, 500, 10)}``). ``batch_run``\n",
    "  will then generate all possible parameter combinations based on this\n",
    "  dictionary and run the model ``iterations`` times for each combination.\n",
    "\n",
    "* ``number_processes``\n",
    "\n",
    "  Number of processors used to run the sweep in parallel. Optional.\n",
    "  If not specified, defaults to use all the available processors.\n",
    "\n",
    "  Note: Multiprocessing does make debugging challenging. If your\n",
    "  parameter sweeps are resulting in unexpected errors set ``number_processes = 1``.\n",
    "  \n",
    "  Also, if your batcher is stuck and is not running for some reason, try also setting ``number_processes = 1``, since this issue might also be related to multiprocessing issues.\n",
    "\n",
    "* ``iterations``\n",
    "\n",
    "  The number of iterations to run each parameter combination for. Optional.\n",
    "  If not specified, defaults to 1.\n",
    "\n",
    "* ``data_collection_period``\n",
    "\n",
    "  The length of the period (number of steps) after which the model and\n",
    "  agent reporters collect data. Optional. If not specified, defaults to -1,\n",
    "  i.e. only at the end of each episode.\n",
    "\n",
    "* ``max_steps``\n",
    "\n",
    "  The maximum number of time steps after which the model halts. An episode\n",
    "  does either end when ``self.running`` of the model class is set to\n",
    "  ``False`` or when ``model.schedule.steps == max_steps`` is reached.\n",
    "  Optional. If not specified, defaults to 1000.\n",
    "\n",
    "* ``display_progress``\n",
    "\n",
    "  Display the batch run progress. Optional. If not specified, defaults to ``True``.\n",
    "\n",
    "In the following example, we hold the height and width fixed, and vary\n",
    "the number of agents. We tell the batch runner to run 5 instantiations\n",
    "of the model with each number of agents, and to run each for 100 steps.\n",
    "\n",
    "We want to keep track of\n",
    "\n",
    "1. the Gini coefficient value and\n",
    "2. the individual agent’s wealth development.\n",
    "\n",
    "Since for the latter changes at each time step might be interesting, we\n",
    "set ``data_collection_period = 1``.\n",
    "\n",
    "Note: The total number of runs is 245 (= 49 different populations \\* 5\n",
    "iterations per population). However, the resulting list of dictionaries\n",
    "will be of length 6186250 (= 250 average agents per population \\* 49\n",
    "different populations \\* 5 iterations per population \\* 101 steps per\n",
    "iteration)."
   ]
  },
  {
   "cell_type": "code",
   "execution_count": 35,
   "id": "ab3057ba",
   "metadata": {
    "collapsed": true,
    "jupyter": {
     "outputs_hidden": true
    }
   },
   "outputs": [
    {
     "name": "stdout",
     "output_type": "stream",
     "text": [
      "Requirement already satisfied: ipywidgets in c:\\users\\peers\\anaconda3\\lib\\site-packages (8.0.4)\n",
      "Requirement already satisfied: ipykernel>=4.5.1 in c:\\users\\peers\\anaconda3\\lib\\site-packages (from ipywidgets) (6.19.2)\n",
      "Requirement already satisfied: ipython>=6.1.0 in c:\\users\\peers\\anaconda3\\lib\\site-packages (from ipywidgets) (8.12.0)\n",
      "Requirement already satisfied: traitlets>=4.3.1 in c:\\users\\peers\\anaconda3\\lib\\site-packages (from ipywidgets) (5.7.1)\n",
      "Requirement already satisfied: widgetsnbextension~=4.0 in c:\\users\\peers\\anaconda3\\lib\\site-packages (from ipywidgets) (4.0.5)\n",
      "Requirement already satisfied: jupyterlab-widgets~=3.0 in c:\\users\\peers\\anaconda3\\lib\\site-packages (from ipywidgets) (3.0.13)\n",
      "Requirement already satisfied: comm>=0.1.1 in c:\\users\\peers\\anaconda3\\lib\\site-packages (from ipykernel>=4.5.1->ipywidgets) (0.1.2)\n",
      "Requirement already satisfied: debugpy>=1.0 in c:\\users\\peers\\anaconda3\\lib\\site-packages (from ipykernel>=4.5.1->ipywidgets) (1.6.7)\n",
      "Requirement already satisfied: jupyter-client>=6.1.12 in c:\\users\\peers\\anaconda3\\lib\\site-packages (from ipykernel>=4.5.1->ipywidgets) (7.4.9)\n",
      "Requirement already satisfied: matplotlib-inline>=0.1 in c:\\users\\peers\\anaconda3\\lib\\site-packages (from ipykernel>=4.5.1->ipywidgets) (0.1.6)\n",
      "Requirement already satisfied: nest-asyncio in c:\\users\\peers\\anaconda3\\lib\\site-packages (from ipykernel>=4.5.1->ipywidgets) (1.5.6)\n",
      "Requirement already satisfied: packaging in c:\\users\\peers\\anaconda3\\lib\\site-packages (from ipykernel>=4.5.1->ipywidgets) (23.0)\n",
      "Requirement already satisfied: psutil in c:\\users\\peers\\anaconda3\\lib\\site-packages (from ipykernel>=4.5.1->ipywidgets) (5.9.0)\n",
      "Requirement already satisfied: pyzmq>=17 in c:\\users\\peers\\anaconda3\\lib\\site-packages (from ipykernel>=4.5.1->ipywidgets) (26.2.0)\n",
      "Requirement already satisfied: tornado>=6.1 in c:\\users\\peers\\anaconda3\\lib\\site-packages (from ipykernel>=4.5.1->ipywidgets) (6.3.2)\n",
      "Requirement already satisfied: backcall in c:\\users\\peers\\anaconda3\\lib\\site-packages (from ipython>=6.1.0->ipywidgets) (0.2.0)\n",
      "Requirement already satisfied: decorator in c:\\users\\peers\\anaconda3\\lib\\site-packages (from ipython>=6.1.0->ipywidgets) (5.1.1)\n",
      "Requirement already satisfied: jedi>=0.16 in c:\\users\\peers\\anaconda3\\lib\\site-packages (from ipython>=6.1.0->ipywidgets) (0.18.1)\n",
      "Requirement already satisfied: pickleshare in c:\\users\\peers\\anaconda3\\lib\\site-packages (from ipython>=6.1.0->ipywidgets) (0.7.5)\n",
      "Requirement already satisfied: prompt-toolkit!=3.0.37,<3.1.0,>=3.0.30 in c:\\users\\peers\\anaconda3\\lib\\site-packages (from ipython>=6.1.0->ipywidgets) (3.0.36)\n",
      "Requirement already satisfied: pygments>=2.4.0 in c:\\users\\peers\\anaconda3\\lib\\site-packages (from ipython>=6.1.0->ipywidgets) (2.15.1)\n",
      "Requirement already satisfied: stack-data in c:\\users\\peers\\anaconda3\\lib\\site-packages (from ipython>=6.1.0->ipywidgets) (0.2.0)\n",
      "Requirement already satisfied: colorama in c:\\users\\peers\\anaconda3\\lib\\site-packages (from ipython>=6.1.0->ipywidgets) (0.4.6)\n",
      "Requirement already satisfied: parso<0.9.0,>=0.8.0 in c:\\users\\peers\\anaconda3\\lib\\site-packages (from jedi>=0.16->ipython>=6.1.0->ipywidgets) (0.8.3)\n",
      "Requirement already satisfied: entrypoints in c:\\users\\peers\\anaconda3\\lib\\site-packages (from jupyter-client>=6.1.12->ipykernel>=4.5.1->ipywidgets) (0.4)\n",
      "Requirement already satisfied: jupyter-core>=4.9.2 in c:\\users\\peers\\anaconda3\\lib\\site-packages (from jupyter-client>=6.1.12->ipykernel>=4.5.1->ipywidgets) (5.3.0)\n",
      "Requirement already satisfied: python-dateutil>=2.8.2 in c:\\users\\peers\\anaconda3\\lib\\site-packages (from jupyter-client>=6.1.12->ipykernel>=4.5.1->ipywidgets) (2.8.2)\n",
      "Requirement already satisfied: wcwidth in c:\\users\\peers\\anaconda3\\lib\\site-packages (from prompt-toolkit!=3.0.37,<3.1.0,>=3.0.30->ipython>=6.1.0->ipywidgets) (0.2.5)\n",
      "Requirement already satisfied: executing in c:\\users\\peers\\anaconda3\\lib\\site-packages (from stack-data->ipython>=6.1.0->ipywidgets) (0.8.3)\n",
      "Requirement already satisfied: asttokens in c:\\users\\peers\\anaconda3\\lib\\site-packages (from stack-data->ipython>=6.1.0->ipywidgets) (2.0.5)\n",
      "Requirement already satisfied: pure-eval in c:\\users\\peers\\anaconda3\\lib\\site-packages (from stack-data->ipython>=6.1.0->ipywidgets) (0.2.2)\n",
      "Requirement already satisfied: platformdirs>=2.5 in c:\\users\\peers\\anaconda3\\lib\\site-packages (from jupyter-core>=4.9.2->jupyter-client>=6.1.12->ipykernel>=4.5.1->ipywidgets) (3.10.0)\n",
      "Requirement already satisfied: pywin32>=300 in c:\\users\\peers\\anaconda3\\lib\\site-packages (from jupyter-core>=4.9.2->jupyter-client>=6.1.12->ipykernel>=4.5.1->ipywidgets) (305.1)\n",
      "Requirement already satisfied: six>=1.5 in c:\\users\\peers\\anaconda3\\lib\\site-packages (from python-dateutil>=2.8.2->jupyter-client>=6.1.12->ipykernel>=4.5.1->ipywidgets) (1.16.0)\n"
     ]
    },
    {
     "data": {
      "application/vnd.jupyter.widget-view+json": {
       "model_id": "c3921ee35435454da29479ccc329ce8e",
       "version_major": 2,
       "version_minor": 0
      },
      "text/plain": [
       "  0%|          | 0/245 [00:00<?, ?it/s]"
      ]
     },
     "metadata": {},
     "output_type": "display_data"
    }
   ],
   "source": [
    "# Test the batch model\n",
    "# If your batcher is stuck and is not running for some reason, try setting number_processes = 1\n",
    "!pip install ipywidgets\n",
    "\n",
    "from mesa.batchrunner import batch_run\n",
    "\n",
    "params = {\"width\": 10, \"height\": 10, \"N\": range(10, 500, 10)}\n",
    "\n",
    "results = batch_run(\n",
    "    MoneyModel,\n",
    "    parameters=params,\n",
    "    iterations=5,\n",
    "    max_steps=100,\n",
    "    number_processes=1,\n",
    "    data_collection_period=1,\n",
    "    display_progress=True,\n",
    ")"
   ]
  },
  {
   "cell_type": "markdown",
   "id": "7f22bade",
   "metadata": {},
   "source": [
    "### Data collection\n",
    "\n",
    "To further analyze the return of the ``batch_run`` function, we convert\n",
    "the list of dictionaries to a Pandas DataFrame and print its keys."
   ]
  },
  {
   "cell_type": "markdown",
   "id": "227f6363",
   "metadata": {},
   "source": [
    "# 9. Run the Batch data Analysis"
   ]
  },
  {
   "cell_type": "code",
   "execution_count": 37,
   "id": "a5763595",
   "metadata": {},
   "outputs": [
    {
     "data": {
      "text/html": [
       "<div>\n",
       "<style scoped>\n",
       "    .dataframe tbody tr th:only-of-type {\n",
       "        vertical-align: middle;\n",
       "    }\n",
       "\n",
       "    .dataframe tbody tr th {\n",
       "        vertical-align: top;\n",
       "    }\n",
       "\n",
       "    .dataframe thead th {\n",
       "        text-align: right;\n",
       "    }\n",
       "</style>\n",
       "<table border=\"1\" class=\"dataframe\">\n",
       "  <thead>\n",
       "    <tr style=\"text-align: right;\">\n",
       "      <th></th>\n",
       "      <th>RunId</th>\n",
       "      <th>iteration</th>\n",
       "      <th>Step</th>\n",
       "      <th>width</th>\n",
       "      <th>height</th>\n",
       "      <th>N</th>\n",
       "      <th>Gini</th>\n",
       "      <th>AgentID</th>\n",
       "      <th>Wealth</th>\n",
       "    </tr>\n",
       "  </thead>\n",
       "  <tbody>\n",
       "    <tr>\n",
       "      <th>0</th>\n",
       "      <td>0</td>\n",
       "      <td>0</td>\n",
       "      <td>0</td>\n",
       "      <td>10</td>\n",
       "      <td>10</td>\n",
       "      <td>10</td>\n",
       "      <td>0.0</td>\n",
       "      <td>0</td>\n",
       "      <td>1</td>\n",
       "    </tr>\n",
       "    <tr>\n",
       "      <th>1</th>\n",
       "      <td>0</td>\n",
       "      <td>0</td>\n",
       "      <td>0</td>\n",
       "      <td>10</td>\n",
       "      <td>10</td>\n",
       "      <td>10</td>\n",
       "      <td>0.0</td>\n",
       "      <td>1</td>\n",
       "      <td>1</td>\n",
       "    </tr>\n",
       "    <tr>\n",
       "      <th>2</th>\n",
       "      <td>0</td>\n",
       "      <td>0</td>\n",
       "      <td>0</td>\n",
       "      <td>10</td>\n",
       "      <td>10</td>\n",
       "      <td>10</td>\n",
       "      <td>0.0</td>\n",
       "      <td>2</td>\n",
       "      <td>1</td>\n",
       "    </tr>\n",
       "    <tr>\n",
       "      <th>3</th>\n",
       "      <td>0</td>\n",
       "      <td>0</td>\n",
       "      <td>0</td>\n",
       "      <td>10</td>\n",
       "      <td>10</td>\n",
       "      <td>10</td>\n",
       "      <td>0.0</td>\n",
       "      <td>3</td>\n",
       "      <td>1</td>\n",
       "    </tr>\n",
       "    <tr>\n",
       "      <th>4</th>\n",
       "      <td>0</td>\n",
       "      <td>0</td>\n",
       "      <td>0</td>\n",
       "      <td>10</td>\n",
       "      <td>10</td>\n",
       "      <td>10</td>\n",
       "      <td>0.0</td>\n",
       "      <td>4</td>\n",
       "      <td>1</td>\n",
       "    </tr>\n",
       "  </tbody>\n",
       "</table>\n",
       "</div>"
      ],
      "text/plain": [
       "   RunId  iteration  Step  width  height   N  Gini  AgentID  Wealth\n",
       "0      0          0     0     10      10  10   0.0        0       1\n",
       "1      0          0     0     10      10  10   0.0        1       1\n",
       "2      0          0     0     10      10  10   0.0        2       1\n",
       "3      0          0     0     10      10  10   0.0        3       1\n",
       "4      0          0     0     10      10  10   0.0        4       1"
      ]
     },
     "execution_count": 37,
     "metadata": {},
     "output_type": "execute_result"
    }
   ],
   "source": [
    "# Collect batch data as Pandas dataframe\n",
    "\n",
    "import pandas as pd\n",
    "\n",
    "results_df = pd.DataFrame(results)\n",
    "results_df.head()"
   ]
  },
  {
   "cell_type": "code",
   "execution_count": 39,
   "id": "b276805b-a073-4809-a943-002b869324ab",
   "metadata": {},
   "outputs": [
    {
     "data": {
      "text/html": [
       "<div>\n",
       "<style scoped>\n",
       "    .dataframe tbody tr th:only-of-type {\n",
       "        vertical-align: middle;\n",
       "    }\n",
       "\n",
       "    .dataframe tbody tr th {\n",
       "        vertical-align: top;\n",
       "    }\n",
       "\n",
       "    .dataframe thead th {\n",
       "        text-align: right;\n",
       "    }\n",
       "</style>\n",
       "<table border=\"1\" class=\"dataframe\">\n",
       "  <thead>\n",
       "    <tr style=\"text-align: right;\">\n",
       "      <th></th>\n",
       "      <th>RunId</th>\n",
       "      <th>iteration</th>\n",
       "      <th>Step</th>\n",
       "      <th>width</th>\n",
       "      <th>height</th>\n",
       "      <th>N</th>\n",
       "      <th>Gini</th>\n",
       "      <th>AgentID</th>\n",
       "      <th>Wealth</th>\n",
       "    </tr>\n",
       "  </thead>\n",
       "  <tbody>\n",
       "    <tr>\n",
       "      <th>0</th>\n",
       "      <td>0</td>\n",
       "      <td>0</td>\n",
       "      <td>0</td>\n",
       "      <td>10</td>\n",
       "      <td>10</td>\n",
       "      <td>10</td>\n",
       "      <td>0.000000</td>\n",
       "      <td>0</td>\n",
       "      <td>1</td>\n",
       "    </tr>\n",
       "    <tr>\n",
       "      <th>1</th>\n",
       "      <td>0</td>\n",
       "      <td>0</td>\n",
       "      <td>0</td>\n",
       "      <td>10</td>\n",
       "      <td>10</td>\n",
       "      <td>10</td>\n",
       "      <td>0.000000</td>\n",
       "      <td>1</td>\n",
       "      <td>1</td>\n",
       "    </tr>\n",
       "    <tr>\n",
       "      <th>2</th>\n",
       "      <td>0</td>\n",
       "      <td>0</td>\n",
       "      <td>0</td>\n",
       "      <td>10</td>\n",
       "      <td>10</td>\n",
       "      <td>10</td>\n",
       "      <td>0.000000</td>\n",
       "      <td>2</td>\n",
       "      <td>1</td>\n",
       "    </tr>\n",
       "    <tr>\n",
       "      <th>3</th>\n",
       "      <td>0</td>\n",
       "      <td>0</td>\n",
       "      <td>0</td>\n",
       "      <td>10</td>\n",
       "      <td>10</td>\n",
       "      <td>10</td>\n",
       "      <td>0.000000</td>\n",
       "      <td>3</td>\n",
       "      <td>1</td>\n",
       "    </tr>\n",
       "    <tr>\n",
       "      <th>4</th>\n",
       "      <td>0</td>\n",
       "      <td>0</td>\n",
       "      <td>0</td>\n",
       "      <td>10</td>\n",
       "      <td>10</td>\n",
       "      <td>10</td>\n",
       "      <td>0.000000</td>\n",
       "      <td>4</td>\n",
       "      <td>1</td>\n",
       "    </tr>\n",
       "    <tr>\n",
       "      <th>...</th>\n",
       "      <td>...</td>\n",
       "      <td>...</td>\n",
       "      <td>...</td>\n",
       "      <td>...</td>\n",
       "      <td>...</td>\n",
       "      <td>...</td>\n",
       "      <td>...</td>\n",
       "      <td>...</td>\n",
       "      <td>...</td>\n",
       "    </tr>\n",
       "    <tr>\n",
       "      <th>6186245</th>\n",
       "      <td>244</td>\n",
       "      <td>4</td>\n",
       "      <td>100</td>\n",
       "      <td>10</td>\n",
       "      <td>10</td>\n",
       "      <td>490</td>\n",
       "      <td>0.670604</td>\n",
       "      <td>485</td>\n",
       "      <td>2</td>\n",
       "    </tr>\n",
       "    <tr>\n",
       "      <th>6186246</th>\n",
       "      <td>244</td>\n",
       "      <td>4</td>\n",
       "      <td>100</td>\n",
       "      <td>10</td>\n",
       "      <td>10</td>\n",
       "      <td>490</td>\n",
       "      <td>0.670604</td>\n",
       "      <td>486</td>\n",
       "      <td>4</td>\n",
       "    </tr>\n",
       "    <tr>\n",
       "      <th>6186247</th>\n",
       "      <td>244</td>\n",
       "      <td>4</td>\n",
       "      <td>100</td>\n",
       "      <td>10</td>\n",
       "      <td>10</td>\n",
       "      <td>490</td>\n",
       "      <td>0.670604</td>\n",
       "      <td>487</td>\n",
       "      <td>1</td>\n",
       "    </tr>\n",
       "    <tr>\n",
       "      <th>6186248</th>\n",
       "      <td>244</td>\n",
       "      <td>4</td>\n",
       "      <td>100</td>\n",
       "      <td>10</td>\n",
       "      <td>10</td>\n",
       "      <td>490</td>\n",
       "      <td>0.670604</td>\n",
       "      <td>488</td>\n",
       "      <td>0</td>\n",
       "    </tr>\n",
       "    <tr>\n",
       "      <th>6186249</th>\n",
       "      <td>244</td>\n",
       "      <td>4</td>\n",
       "      <td>100</td>\n",
       "      <td>10</td>\n",
       "      <td>10</td>\n",
       "      <td>490</td>\n",
       "      <td>0.670604</td>\n",
       "      <td>489</td>\n",
       "      <td>1</td>\n",
       "    </tr>\n",
       "  </tbody>\n",
       "</table>\n",
       "<p>6186250 rows × 9 columns</p>\n",
       "</div>"
      ],
      "text/plain": [
       "         RunId  iteration  Step  width  height    N      Gini  AgentID  Wealth\n",
       "0            0          0     0     10      10   10  0.000000        0       1\n",
       "1            0          0     0     10      10   10  0.000000        1       1\n",
       "2            0          0     0     10      10   10  0.000000        2       1\n",
       "3            0          0     0     10      10   10  0.000000        3       1\n",
       "4            0          0     0     10      10   10  0.000000        4       1\n",
       "...        ...        ...   ...    ...     ...  ...       ...      ...     ...\n",
       "6186245    244          4   100     10      10  490  0.670604      485       2\n",
       "6186246    244          4   100     10      10  490  0.670604      486       4\n",
       "6186247    244          4   100     10      10  490  0.670604      487       1\n",
       "6186248    244          4   100     10      10  490  0.670604      488       0\n",
       "6186249    244          4   100     10      10  490  0.670604      489       1\n",
       "\n",
       "[6186250 rows x 9 columns]"
      ]
     },
     "execution_count": 39,
     "metadata": {},
     "output_type": "execute_result"
    }
   ],
   "source": [
    "results_df"
   ]
  },
  {
   "cell_type": "markdown",
   "id": "27cbeb06",
   "metadata": {},
   "source": [
    "### Data visualization\n",
    "\n",
    "First, we want to take a closer look at how the Gini coefficient at the\n",
    "end of each episode changes as we increase the size of the population.\n",
    "For this, we filter our results to only contain the data of one agent\n",
    "(the Gini coefficient will be the same for the entire population at any\n",
    "time) at the 100th step of each episode and then scatter-plot the values\n",
    "for the Gini coefficient over the the number of agents. Notice there are\n",
    "five values for each population size since we set ``iterations=5`` when\n",
    "calling the batch run."
   ]
  },
  {
   "cell_type": "code",
   "execution_count": 41,
   "id": "5ac54a98",
   "metadata": {},
   "outputs": [
    {
     "data": {
      "text/plain": [
       "<Axes: xlabel='N', ylabel='Gini'>"
      ]
     },
     "execution_count": 41,
     "metadata": {},
     "output_type": "execute_result"
    },
    {
     "data": {
      "image/png": "[encoded data removed]",
      "text/plain": [
       "<Figure size 640x480 with 1 Axes>"
      ]
     },
     "metadata": {},
     "output_type": "display_data"
    }
   ],
   "source": [
    "# Trend of coefficients after each iteration\n",
    "\n",
    "results_filtered = results_df[(results_df.AgentID == 0) & (results_df.Step == 100)]\n",
    "results_filtered.plot.scatter('N', 'Gini')"
   ]
  },
  {
   "cell_type": "markdown",
   "id": "7f4795d0",
   "metadata": {},
   "source": [
    "Second, we want to display the agent’s wealth at each time step of one\n",
    "specific episode. To do this, we again filter our large data frame, this\n",
    "time with a fixed number of agents and only for a specific iteration of\n",
    "that population. To print the results, we convert the filtered data\n",
    "frame to a string specifying the desired columns to print."
   ]
  },
  {
   "cell_type": "markdown",
   "id": "35edb453",
   "metadata": {},
   "source": [
    "A. Show agent’s wealth at each time step of one specific episode (e.g., AgentID)"
   ]
  },
  {
   "cell_type": "code",
   "execution_count": 43,
   "id": "3b0bf216",
   "metadata": {},
   "outputs": [
    {
     "data": {
      "text/plain": [
       "<Axes: >"
      ]
     },
     "execution_count": 43,
     "metadata": {},
     "output_type": "execute_result"
    },
    {
     "data": {
      "image/png": "[encoded data removed]",
      "text/plain": [
       "<Figure size 640x480 with 1 Axes>"
      ]
     },
     "metadata": {},
     "output_type": "display_data"
    }
   ],
   "source": [
    "# First, we filter the results\n",
    "one_episode_wealth = results_df[(results_df.N == 10) & (results_df.iteration == 2)]\n",
    "one_episode_wealth[one_episode_wealth.AgentID == 0].Wealth.plot()"
   ]
  },
  {
   "cell_type": "markdown",
   "id": "ae3e4661",
   "metadata": {},
   "source": [
    "Lastly, we want to take a look at the development of the Gini\n",
    "coefficient over the course of one iteration. Filtering and printing\n",
    "looks almost the same as above, only this time we choose a different\n",
    "episode."
   ]
  },
  {
   "cell_type": "markdown",
   "id": "406e5381",
   "metadata": {},
   "source": [
    "B. Development of the coefficient over the course of one iteration"
   ]
  },
  {
   "cell_type": "code",
   "execution_count": 45,
   "id": "503b50d1",
   "metadata": {},
   "outputs": [
    {
     "data": {
      "text/plain": [
       "<Axes: >"
      ]
     },
     "execution_count": 45,
     "metadata": {},
     "output_type": "execute_result"
    },
    {
     "data": {
      "image/png": "[encoded data removed]",
      "text/plain": [
       "<Figure size 640x480 with 1 Axes>"
      ]
     },
     "metadata": {},
     "output_type": "display_data"
    }
   ],
   "source": [
    "results_one_episode = results_df[\n",
    "    (results_df.N == 10) & (results_df.iteration == 1) & (results_df.AgentID == 0)\n",
    "]\n",
    "results_one_episode.Gini.plot()"
   ]
  },
  {
   "cell_type": "markdown",
   "id": "d3240035",
   "metadata": {},
   "source": [
    "## Happy Modeling!"
   ]
  },
  {
   "cell_type": "markdown",
   "id": "b9c1b4b8",
   "metadata": {},
   "source": [
    "# Appendix"
   ]
  },
  {
   "cell_type": "markdown",
   "id": "286b50b6",
   "metadata": {},
   "source": [
    "# 3. Visualize the Agent/Model - interactive advanced"
   ]
  },
  {
   "cell_type": "code",
   "execution_count": 51,
   "id": "de9c5f71",
   "metadata": {},
   "outputs": [
    {
     "name": "stdout",
     "output_type": "stream",
     "text": [
      "Interface starting at http://127.0.0.1:8326\n"
     ]
    },
    {
     "ename": "RuntimeError",
     "evalue": "This event loop is already running",
     "output_type": "error",
     "traceback": [
      "\u001b[1;31m---------------------------------------------------------------------------\u001b[0m",
      "\u001b[1;31mRuntimeError\u001b[0m                              Traceback (most recent call last)",
      "Cell \u001b[1;32mIn[51], line 50\u001b[0m\n\u001b[0;32m     45\u001b[0m server \u001b[38;5;241m=\u001b[39m ModularServer(MoneyModel,\n\u001b[0;32m     46\u001b[0m                        [grid, text, chart],\n\u001b[0;32m     47\u001b[0m                        \u001b[38;5;124m\"\u001b[39m\u001b[38;5;124mMoney Model\u001b[39m\u001b[38;5;124m\"\u001b[39m,\n\u001b[0;32m     48\u001b[0m                        model_params)\n\u001b[0;32m     49\u001b[0m server\u001b[38;5;241m.\u001b[39mport \u001b[38;5;241m=\u001b[39m \u001b[38;5;241m8326\u001b[39m \u001b[38;5;66;03m# The default\u001b[39;00m\n\u001b[1;32m---> 50\u001b[0m server\u001b[38;5;241m.\u001b[39mlaunch()\n",
      "File \u001b[1;32m~\\anaconda3\\Lib\\site-packages\\mesa_viz_tornado\\ModularVisualization.py:407\u001b[0m, in \u001b[0;36mModularServer.launch\u001b[1;34m(self, port, open_browser)\u001b[0m\n\u001b[0;32m    405\u001b[0m tornado\u001b[38;5;241m.\u001b[39mautoreload\u001b[38;5;241m.\u001b[39mstart()\n\u001b[0;32m    406\u001b[0m \u001b[38;5;28;01mtry\u001b[39;00m:\n\u001b[1;32m--> 407\u001b[0m     tornado\u001b[38;5;241m.\u001b[39mioloop\u001b[38;5;241m.\u001b[39mIOLoop\u001b[38;5;241m.\u001b[39mcurrent()\u001b[38;5;241m.\u001b[39mstart()\n\u001b[0;32m    408\u001b[0m \u001b[38;5;28;01mexcept\u001b[39;00m \u001b[38;5;167;01mKeyboardInterrupt\u001b[39;00m:\n\u001b[0;32m    409\u001b[0m     tornado\u001b[38;5;241m.\u001b[39mioloop\u001b[38;5;241m.\u001b[39mIOLoop\u001b[38;5;241m.\u001b[39mcurrent()\u001b[38;5;241m.\u001b[39mstop()\n",
      "File \u001b[1;32m~\\anaconda3\\Lib\\site-packages\\tornado\\platform\\asyncio.py:195\u001b[0m, in \u001b[0;36mBaseAsyncIOLoop.start\u001b[1;34m(self)\u001b[0m\n\u001b[0;32m    194\u001b[0m \u001b[38;5;28;01mdef\u001b[39;00m \u001b[38;5;21mstart\u001b[39m(\u001b[38;5;28mself\u001b[39m) \u001b[38;5;241m-\u001b[39m\u001b[38;5;241m>\u001b[39m \u001b[38;5;28;01mNone\u001b[39;00m:\n\u001b[1;32m--> 195\u001b[0m     \u001b[38;5;28mself\u001b[39m\u001b[38;5;241m.\u001b[39masyncio_loop\u001b[38;5;241m.\u001b[39mrun_forever()\n",
      "File \u001b[1;32m~\\anaconda3\\Lib\\asyncio\\base_events.py:596\u001b[0m, in \u001b[0;36mBaseEventLoop.run_forever\u001b[1;34m(self)\u001b[0m\n\u001b[0;32m    594\u001b[0m \u001b[38;5;250m\u001b[39m\u001b[38;5;124;03m\"\"\"Run until stop() is called.\"\"\"\u001b[39;00m\n\u001b[0;32m    595\u001b[0m \u001b[38;5;28mself\u001b[39m\u001b[38;5;241m.\u001b[39m_check_closed()\n\u001b[1;32m--> 596\u001b[0m \u001b[38;5;28mself\u001b[39m\u001b[38;5;241m.\u001b[39m_check_running()\n\u001b[0;32m    597\u001b[0m \u001b[38;5;28mself\u001b[39m\u001b[38;5;241m.\u001b[39m_set_coroutine_origin_tracking(\u001b[38;5;28mself\u001b[39m\u001b[38;5;241m.\u001b[39m_debug)\n\u001b[0;32m    599\u001b[0m old_agen_hooks \u001b[38;5;241m=\u001b[39m sys\u001b[38;5;241m.\u001b[39mget_asyncgen_hooks()\n",
      "File \u001b[1;32m~\\anaconda3\\Lib\\asyncio\\base_events.py:588\u001b[0m, in \u001b[0;36mBaseEventLoop._check_running\u001b[1;34m(self)\u001b[0m\n\u001b[0;32m    586\u001b[0m \u001b[38;5;28;01mdef\u001b[39;00m \u001b[38;5;21m_check_running\u001b[39m(\u001b[38;5;28mself\u001b[39m):\n\u001b[0;32m    587\u001b[0m     \u001b[38;5;28;01mif\u001b[39;00m \u001b[38;5;28mself\u001b[39m\u001b[38;5;241m.\u001b[39mis_running():\n\u001b[1;32m--> 588\u001b[0m         \u001b[38;5;28;01mraise\u001b[39;00m \u001b[38;5;167;01mRuntimeError\u001b[39;00m(\u001b[38;5;124m'\u001b[39m\u001b[38;5;124mThis event loop is already running\u001b[39m\u001b[38;5;124m'\u001b[39m)\n\u001b[0;32m    589\u001b[0m     \u001b[38;5;28;01mif\u001b[39;00m events\u001b[38;5;241m.\u001b[39m_get_running_loop() \u001b[38;5;129;01mis\u001b[39;00m \u001b[38;5;129;01mnot\u001b[39;00m \u001b[38;5;28;01mNone\u001b[39;00m:\n\u001b[0;32m    590\u001b[0m         \u001b[38;5;28;01mraise\u001b[39;00m \u001b[38;5;167;01mRuntimeError\u001b[39;00m(\n\u001b[0;32m    591\u001b[0m             \u001b[38;5;124m'\u001b[39m\u001b[38;5;124mCannot run the event loop while another loop is running\u001b[39m\u001b[38;5;124m'\u001b[39m)\n",
      "\u001b[1;31mRuntimeError\u001b[0m: This event loop is already running"
     ]
    }
   ],
   "source": [
    "from mesa.visualization.modules import CanvasGrid, ChartModule, TextElement\n",
    "from mesa.visualization.ModularVisualization import ModularServer\n",
    "from mesa.visualization.UserParam import Slider\n",
    "\n",
    "class MoneyElement(TextElement):\n",
    "    '''\n",
    "    Display a text count of how many happy agents there are.\n",
    "    '''\n",
    "\n",
    "    def render(self, model):\n",
    "        return \"Money agents: \" + str(model.num_agents)\n",
    "\n",
    "def agent_portrayal(agent):\n",
    "    '''\n",
    "    Portrayal Method for canvas\n",
    "    '''\n",
    "    if agent is None:\n",
    "        return\n",
    "    portrayal = {\"Shape\": \"circle\", \"r\": 0.5, \"Filled\": \"true\", \"Layer\": 0}\n",
    "\n",
    "    if agent.wealth == 0:\n",
    "        portrayal[\"Color\"] = \"Red\"\n",
    "    else:\n",
    "        portrayal[\"Color\"] = \"Blue\"\n",
    "    \n",
    "    return portrayal\n",
    "\n",
    "text = MoneyElement()\n",
    "grid = CanvasGrid(agent_portrayal, 10, 10, 500, 500)\n",
    "chart = ChartModule([{\"Label\": \"Gini\", \"Color\": \"#0000FF\"}], data_collector_name=\"datacollector\")\n",
    "\n",
    "model_params = {\n",
    "    \"N\": Slider(\n",
    "        \"Number of agents\",\n",
    "        100,\n",
    "        2,\n",
    "        200,\n",
    "        1,\n",
    "        description=\"Choose how many agents to include in the model\",\n",
    "    ),\n",
    "    \"width\": 10,\n",
    "    \"height\": 10,\n",
    "}\n",
    "\n",
    "server = ModularServer(MoneyModel,\n",
    "                       [grid, text, chart],\n",
    "                       \"Money Model\",\n",
    "                       model_params)\n",
    "server.port = 8326 # The default\n",
    "server.launch()"
   ]
  },
  {
   "cell_type": "code",
   "execution_count": null,
   "id": "7e749fb1",
   "metadata": {},
   "outputs": [],
   "source": []
  }
 ],
 "metadata": {
  "kernelspec": {
   "display_name": "Python 3 (ipykernel)",
   "language": "python",
   "name": "python3"
  },
  "language_info": {
   "codemirror_mode": {
    "name": "ipython",
    "version": 3
   },
   "file_extension": ".py",
   "mimetype": "text/x-python",
   "name": "python",
   "nbconvert_exporter": "python",
   "pygments_lexer": "ipython3",
   "version": "3.11.4"
  }
 },
 "nbformat": 4,
 "nbformat_minor": 5
}
