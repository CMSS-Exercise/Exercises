{
 "cells": [
  {
   "cell_type": "markdown",
   "id": "51b11790",
   "metadata": {},
   "source": [
    " _Authors: Petar Jerčić (pjercic@tugraz.at), Jana Lasser (jana.lasser@ds.mpg.de), David Garcia and Max Pellert._  \n",
    " _This teaching material is created for the course \"Computational Modelling of Social Systems\" at Uni Konstanz._"
   ]
  },
  {
   "cell_type": "markdown",
   "id": "ed4bb4ad",
   "metadata": {},
   "source": [
    "# Mesa Introductory Tutorial\n",
    "\n",
    "This tutorial has been adapted from the Mesa package introductory tutorial [GitHub](https://github.com/projectmesa/mesa/blob/main/docs/tutorials/intro_tutorial.rst). It has been purposefully simplified for the context of this course.\n",
    "\n",
    "Mesa has extensive [API documentation](https://mesa.readthedocs.io/en/stable/apis/api_main.html), but we will slowly go through the important objects and methods throughout the excercises, step-by-step.\n",
    "\n",
    "The excercises will have a similar structure as follows:\n",
    "1. Create the Basic Agent/Model\n",
    "2. Run the Agent/Model Basic\n",
    "3. Visualize the Agent/Model\n",
    "4. Run the Agent/Model Visualization\n",
    "5. Collect data to Analyze the Agent/Model\n",
    "6. Run the Agent/Model Analysis\n",
    "7. Create iteration Batch of the Agent/Model\n",
    "8. Run the Agent/Model Batch\n",
    "9. Run the Batch data Analysis"
   ]
  },
  {
   "cell_type": "markdown",
   "id": "bc10d07b",
   "metadata": {},
   "source": [
    "## Description\n",
    "\n",
    "[Mesa](https://github.com/projectmesa/mesa) is a Python framework for\n",
    "[agent-based modeling](https://en.wikipedia.org/wiki/Agent-based_model). Getting\n",
    "started with Mesa is easy. In this tutorial, we will walk through\n",
    "creating a simple model and progressively add functionality which will\n",
    "illustrate Mesa’s core features.\n",
    "\n",
    "The turorial will be given sequentially in 4 blocks:\n",
    "\n",
    "1. The base for this tutorial is a very simple model of agents exchanging money. \n",
    "2. Next, we add *space* to allow agents to move. \n",
    "3. Then, we’ll cover two of Mesa’s analytic tools: the *data collector* and *batch runner*.\n",
    "4. After that, we’ll add an *interactive visualization* which lets us watch the model as it runs. Finally, we go over how to write your own visualization module.\n",
    "\n",
    "You can also find all the full code this tutorial describes in the **examples/boltzmann_wealth_model** directory of the Mesa examples repository (https://github.com/projectmesa/mesa-examples).\n",
    "\n",
    "## Sample Model Description\n",
    "\n",
    "The tutorial model is a very simple simulated agent-based economy, drawn\n",
    "from econophysics and presenting a statistical mechanics approach to\n",
    "wealth distribution. The rules of our tutorial model:\n",
    "\n",
    "1. There are some number of agents.\n",
    "2. All agents begin with 1 unit of money.\n",
    "3. At every step of the model, an agent gives 1 unit of money (if they\n",
    "   have it) to some other agent.\n",
    "\n",
    "Despite its simplicity, this model yields results that are often\n",
    "unexpected to those not familiar with it. For our purposes, it also\n",
    "easily demonstrates Mesa’s core features.\n",
    "\n",
    "## How to use and modify the code\n",
    "\n",
    "These excercises are designed around a Mesa template that is given to you to reuse. You are not asked to perform any complex object programming, but instead we ask for understanding of the core features of the Mesa pyhton package. You will mostly have to modifly the existing template and code the ``Model`` and ``Agent``behavior using standard python code.\n",
    "\n",
    "**Therefore, in this excercise, you are asked to fill your code where the comments state:**\n",
    "\n",
    "``#[Your code here]``\n",
    "\n",
    "Let’s get started."
   ]
  },
  {
   "cell_type": "markdown",
   "id": "6c301d01",
   "metadata": {},
   "source": [
    "## Building a sample model\n",
    "\n",
    "Once the instalation of the neccesary requirements is ready you can start building the model.\n",
    "\n",
    "- Python 3 is installed\n",
    "- Jupyter Noteboks is installed (Anaconda or through Mesa)\n",
    "- Mesa is installed\n",
    "\n",
    "Now you can write models interactively in [Jupyter Notebook](http://jupyter.org/) cells."
   ]
  },
  {
   "cell_type": "markdown",
   "id": "39911cb6",
   "metadata": {},
   "source": [
    "# 1. Create the Basic Agent/Model"
   ]
  },
  {
   "cell_type": "markdown",
   "id": "fe964061",
   "metadata": {},
   "source": [
    "## Setting up the model\n",
    "\n",
    "To begin writing the model code, we start with two core classes: one for\n",
    "the overall model, the other for the agents. The model class holds the\n",
    "model-level attributes, manages the agents, and generally handles the\n",
    "global level of our model. Each instantiation of the model class will be\n",
    "a specific model run. Each model will contain multiple agents, all of\n",
    "which are instantiations of the agent class. Both the model and agent\n",
    "classes are child classes of Mesa’s generic ``Model`` and ``Agent``\n",
    "classes.\n",
    "\n",
    "Each agent has only one variable: how much wealth it currently has.\n",
    "(Each agent will also have a unique identifier (i.e., a name), stored in\n",
    "the ``unique_id`` variable. Giving each agent a unique id is a good\n",
    "practice when doing agent-based modeling.)\n",
    "\n",
    "There is only one model-level parameter: how many agents the model\n",
    "contains. When a new model is started, we want it to populate itself\n",
    "with the given number of agents.\n",
    "\n",
    "The beginning of both classes looks like this:"
   ]
  },
  {
   "cell_type": "code",
   "execution_count": 7,
   "id": "388a82ef",
   "metadata": {
    "tags": []
   },
   "outputs": [
    {
     "name": "stdout",
     "output_type": "stream",
     "text": [
      "3.1.5\n"
     ]
    }
   ],
   "source": [
    "# Setting up the model - agen variables and model-level parameters\n",
    "import mesa\n",
    "print(mesa.__version__)\n",
    "\n",
    "#!pip install seaborn\n",
    "# Data visualization tools.\n",
    "import seaborn as sns\n",
    "\n",
    "# Has multi-dimensional arrays and matrices. Has a large collection of\n",
    "# mathematical functions to operate on these arrays.\n",
    "import numpy as np\n",
    "\n",
    "# Data manipulation and analysis.\n",
    "import pandas as pd\n",
    "\n",
    "class MoneyAgent(mesa.Agent):\n",
    "    \"\"\"An agent with fixed initial wealth.\"\"\"\n",
    "\n",
    "    def __init__(self, model):\n",
    "        # Pass the parameters to the parent class.\n",
    "        super().__init__(model)\n",
    "\n",
    "        # Create the agent's variable and set the initial values.\n",
    "        self.wealth = 1\n",
    "\n",
    "\n",
    "class MoneyModel(mesa.Model):\n",
    "    \"\"\"A model with some number of agents.\"\"\"\n",
    "\n",
    "    def __init__(self, n, seed=None):\n",
    "        super().__init__(seed=seed)\n",
    "        self.num_agents = n\n",
    "        # Create agents\n",
    "        MoneyAgent.create_agents(model=self, n=n)"
   ]
  },
  {
   "cell_type": "markdown",
   "id": "6579f4f1",
   "metadata": {},
   "source": [
    "## Adding the scheduler\n",
    "\n",
    "Time in most agent-based models moves in steps, sometimes also called\n",
    "**ticks**. At each step of the model, one or more of the agents –\n",
    "usually all of them – are activated and take their own step, changing\n",
    "internally and/or interacting with one another or the environment.\n",
    "\n",
    "The **scheduler** is a special model component which controls the order\n",
    "in which agents are activated. For example, all the agents may activate\n",
    "in the same order every step; their order might be shuffled; we may try\n",
    "to simulate all the agents acting at the same time; and more. Mesa\n",
    "offers a few different built-in scheduler classes, with a common\n",
    "interface. That makes it easy to change the activation regime a given\n",
    "model uses, and see whether it changes the model behavior. This may not\n",
    "seem important, but scheduling patterns can have an impact on your\n",
    "results.\n",
    "\n",
    "For now, let’s use one of the simplest ones: ``RandomActivation``, which\n",
    "activates all the agents once per step, in random order. Every agent is\n",
    "expected to have a ``step`` method. The step method is the action the\n",
    "agent takes when it is activated by the model schedule. We add an agent\n",
    "to the schedule using the ``add`` method; when we call the schedule’s\n",
    "``step`` method, the model shuffles the order of the agents, then\n",
    "activates and executes each agent’s ``step`` method.\n",
    "\n",
    "With that in mind, the model code with the scheduler added looks like\n",
    "this:"
   ]
  },
  {
   "cell_type": "code",
   "execution_count": 9,
   "id": "6905686a",
   "metadata": {
    "tags": []
   },
   "outputs": [],
   "source": [
    "# Adding the scheduler - agent step and model step actions\n",
    "class MoneyAgent(mesa.Agent):\n",
    "    \"\"\"An agent with fixed initial wealth.\"\"\"\n",
    "\n",
    "    def __init__(self, model):\n",
    "        # Pass the parameters to the parent class.\n",
    "        super().__init__(model)\n",
    "\n",
    "        # Create the agent's attribute and set the initial values.\n",
    "        self.wealth = 1\n",
    "\n",
    "    def say_hi(self):\n",
    "        # The agent's step will go here.\n",
    "        # For demonstration purposes we will print the agent's unique_id\n",
    "        print(f\"Hi, I am an agent, you can call me {str(self.unique_id)}.\")\n",
    "\n",
    "\n",
    "class MoneyModel(mesa.Model):\n",
    "    \"\"\"A model with some number of agents.\"\"\"\n",
    "\n",
    "    def __init__(self, n, seed=None):\n",
    "        super().__init__(seed=seed)\n",
    "        self.num_agents = n\n",
    "\n",
    "        # Create n agents\n",
    "        MoneyAgent.create_agents(model=self, n=n)\n",
    "\n",
    "    def step(self):\n",
    "        \"\"\"Advance the model by one step.\"\"\"\n",
    "\n",
    "        # This function psuedo-randomly reorders the list of agent objects and\n",
    "        # then iterates through calling the function passed in as the parameter\n",
    "        self.agents.shuffle_do(\"say_hi\")\n",
    " "
   ]
  },
  {
   "cell_type": "markdown",
   "id": "a40dc714",
   "metadata": {},
   "source": [
    "### Running the model\n",
    "\n",
    "At this point, we have a model which runs – it just doesn’t do anything.\n",
    "You can see for yourself with a few easy lines. If you’ve been working\n",
    "in an interactive session, you can create a model object directly. \n",
    "\n",
    "Then create the model object, and run it for one step:"
   ]
  },
  {
   "cell_type": "code",
   "execution_count": 11,
   "id": "5a189b3d",
   "metadata": {
    "tags": []
   },
   "outputs": [
    {
     "name": "stdout",
     "output_type": "stream",
     "text": [
      "Hi, I am an agent, you can call me 10.\n",
      "Hi, I am an agent, you can call me 5.\n",
      "Hi, I am an agent, you can call me 7.\n",
      "Hi, I am an agent, you can call me 8.\n",
      "Hi, I am an agent, you can call me 1.\n",
      "Hi, I am an agent, you can call me 4.\n",
      "Hi, I am an agent, you can call me 3.\n",
      "Hi, I am an agent, you can call me 2.\n",
      "Hi, I am an agent, you can call me 9.\n",
      "Hi, I am an agent, you can call me 6.\n"
     ]
    }
   ],
   "source": [
    "# Test the model\n",
    "starter_model = MoneyModel(10)\n",
    "starter_model.step()"
   ]
  },
  {
   "cell_type": "code",
   "execution_count": 12,
   "id": "c604f2a9-1b6e-4331-9425-8b556af15952",
   "metadata": {},
   "outputs": [
    {
     "name": "stdout",
     "output_type": "stream",
     "text": [
      "Hi, I am an agent, you can call me 6.\n",
      "Hi, I am an agent, you can call me 2.\n",
      "Hi, I am an agent, you can call me 10.\n",
      "Hi, I am an agent, you can call me 1.\n",
      "Hi, I am an agent, you can call me 5.\n",
      "Hi, I am an agent, you can call me 9.\n",
      "Hi, I am an agent, you can call me 3.\n",
      "Hi, I am an agent, you can call me 4.\n",
      "Hi, I am an agent, you can call me 7.\n",
      "Hi, I am an agent, you can call me 8.\n"
     ]
    }
   ],
   "source": [
    "# Run this step a few times and see what happens! notice the order of the agents changes each time.\n",
    "starter_model.step()"
   ]
  },
  {
   "cell_type": "markdown",
   "id": "c429eaeb",
   "metadata": {},
   "source": [
    "### Exercise\n",
    "\n",
    "Try modifying the code above to have every agent print out its\n",
    "``wealth`` when it is activated. Run a few steps of the model to see how\n",
    "the agent activation order is shuffled each step."
   ]
  },
  {
   "cell_type": "markdown",
   "id": "ef50f158",
   "metadata": {},
   "source": [
    "## Agent Step\n",
    "\n",
    "Now we just need to have the agents do what we intend for them to do:\n",
    "check their wealth, and if they have the money, give one unit of it away\n",
    "to another random agent. To allow the agent to choose another agent at\n",
    "random, we use the ``model.random`` random-number generator. This works\n",
    "just like Python’s ``random`` module, but with a fixed seed set when the\n",
    "model is instantiated, that can be used to replicate a specific model\n",
    "run later.\n",
    "\n",
    "To pick an agent at random, we need a list of all agents. Notice that\n",
    "there isn’t such a list explicitly in the model. The scheduler, however,\n",
    "does have an internal list of all the agents it is scheduled to\n",
    "activate.\n",
    "\n",
    "With that in mind, we rewrite the agent ``step`` method, like this:"
   ]
  },
  {
   "cell_type": "code",
   "execution_count": 15,
   "id": "3dc3e4c5",
   "metadata": {
    "tags": []
   },
   "outputs": [],
   "source": [
    "class MoneyAgent(mesa.Agent):\n",
    "    \"\"\"An agent with fixed initial wealth.\"\"\"\n",
    "\n",
    "    def __init__(self, model):\n",
    "        # Pass the parameters to the parent class.\n",
    "        super().__init__(model)\n",
    "\n",
    "        # Create the agent's variable and set the initial values.\n",
    "        self.wealth = 1\n",
    "\n",
    "    def exchange(self):\n",
    "        # Verify agent has some wealth\n",
    "        if self.wealth > 0:\n",
    "            other_agent = self.random.choice(self.model.agents)\n",
    "            if other_agent is not None:\n",
    "                other_agent.wealth += 1\n",
    "                self.wealth -= 1\n",
    "                \n",
    "class MoneyModel(mesa.Model):\n",
    "    \"\"\"A model with some number of agents.\"\"\"\n",
    "\n",
    "    def __init__(self, n):\n",
    "        super().__init__()\n",
    "        self.num_agents = n\n",
    "\n",
    "        # Create agents\n",
    "        MoneyAgent.create_agents(model=self, n=n)\n",
    "\n",
    "    def step(self):\n",
    "        \"\"\"Advance the model by one step.\"\"\"\n",
    "\n",
    "        # This function psuedo-randomly reorders the list of agent objects and\n",
    "        # then iterates through calling the function passed in as the parameter\n",
    "        self.agents.shuffle_do(\"exchange\")"
   ]
  },
  {
   "cell_type": "markdown",
   "id": "adf68651",
   "metadata": {},
   "source": [
    "# 2. Run the Agent/Model Basic"
   ]
  },
  {
   "cell_type": "markdown",
   "id": "8a9e7fb7",
   "metadata": {},
   "source": [
    "### Running your first model\n",
    "\n",
    "With that last piece in hand, it’s time for the first rudimentary run of\n",
    "the model.\n",
    "\n",
    "Now let’s create a model with 10 agents, and run it for 10 steps."
   ]
  },
  {
   "cell_type": "code",
   "execution_count": 18,
   "id": "b0cc7f7c",
   "metadata": {
    "tags": []
   },
   "outputs": [],
   "source": [
    "model = MoneyModel(10)  # Tells the model to create 10 agents\n",
    "for _ in range(\n",
    "    30\n",
    "):  # Runs the model for 10 steps; an underscore is common convention for a variable that is not used\n",
    "    model.step()"
   ]
  },
  {
   "cell_type": "code",
   "execution_count": 19,
   "id": "495df327-0b98-443a-9897-4a0d1fe9df85",
   "metadata": {},
   "outputs": [
    {
     "data": {
      "image/png": "[encoded data removed]",
      "text/plain": [
       "<Figure size 640x480 with 1 Axes>"
      ]
     },
     "metadata": {},
     "output_type": "display_data"
    }
   ],
   "source": [
    "agent_wealth = [a.wealth for a in model.agents]\n",
    "# Create a histogram with seaborn\n",
    "g = sns.histplot(agent_wealth, discrete=True)\n",
    "g.set(\n",
    "    title=\"Wealth distribution\", xlabel=\"Wealth\", ylabel=\"number of agents\"\n",
    ");  # The semicolon is just to avoid printing the object representation"
   ]
  },
  {
   "cell_type": "code",
   "execution_count": 20,
   "id": "756120f4-8645-4ed7-b466-596427cf6c44",
   "metadata": {},
   "outputs": [
    {
     "data": {
      "image/png": "[encoded data removed]",
      "text/plain": [
       "<Figure size 640x480 with 1 Axes>"
      ]
     },
     "metadata": {},
     "output_type": "display_data"
    }
   ],
   "source": [
    "all_wealth = []\n",
    "# This runs the model 100 times, each model executing 10 steps.\n",
    "for _ in range(100):\n",
    "    # Run the model\n",
    "    model = MoneyModel(10)\n",
    "    for _ in range(30):\n",
    "        model.step()\n",
    "\n",
    "    # Store the results\n",
    "    for agent in model.agents:\n",
    "        all_wealth.append(agent.wealth)\n",
    "\n",
    "# Use seaborn\n",
    "g = sns.histplot(all_wealth, discrete=True)\n",
    "g.set(title=\"Wealth distribution\", xlabel=\"Wealth\", ylabel=\"number of agents\");"
   ]
  },
  {
   "cell_type": "markdown",
   "id": "6ebc65f0",
   "metadata": {},
   "source": [
    "## Adding space\n",
    "\n",
    "Many ABMs have a spatial element, with agents moving around and\n",
    "interacting with nearby neighbors. Mesa currently supports two overall\n",
    "kinds of spaces: grid, and continuous. Grids are divided into cells, and\n",
    "agents can only be on a particular cell, like pieces on a chess board.\n",
    "Continuous space, in contrast, allows agents to have any arbitrary\n",
    "position. Both grids and continuous spaces are frequently\n",
    "[toroidal](https://en.wikipedia.org/wiki/Toroidal_graph), meaning\n",
    "that the edges wrap around, with cells on the right edge connected to\n",
    "those on the left edge, and the top to the bottom. This prevents some\n",
    "cells having fewer neighbors than others, or agents being able to go off\n",
    "the edge of the environment.\n",
    "\n",
    "Let’s add a simple spatial element to our model by putting our agents on\n",
    "a grid and make them walk around at random. Instead of giving their unit\n",
    "of money to any random agent, they’ll give it to an agent on the same\n",
    "cell.\n",
    "\n",
    "Mesa has two main types of grids: ``SingleGrid`` and ``MultiGrid``.\n",
    "``SingleGrid`` enforces at most one agent per cell; ``MultiGrid`` allows\n",
    "multiple agents to be in the same cell. Since we want agents to be able\n",
    "to share a cell, we use ``MultiGrid``.\n",
    "\n",
    "`from mesa.space import MultiGrid`\n",
    "\n",
    "We instantiate a grid with width and height parameters, and a boolean as\n",
    "to whether the grid is toroidal. Let’s make width and height model\n",
    "parameters, in addition to the number of agents, and have the grid\n",
    "always be toroidal. We can place agents on a grid with the grid’s\n",
    "``place_agent`` method, which takes an agent and an (x, y) tuple of the\n",
    "coordinates to place the agent.\n",
    "\n",
    "Under the hood, each agent’s position is stored in two ways: the agent\n",
    "is contained in the grid in the cell it is currently in, and the agent\n",
    "has a ``pos`` variable with an (x, y) coordinate tuple. The\n",
    "``place_agent`` method adds the coordinate to the agent automatically."
   ]
  },
  {
   "cell_type": "code",
   "execution_count": 22,
   "id": "67238034",
   "metadata": {
    "tags": []
   },
   "outputs": [],
   "source": [
    "# Adding space\n",
    "class MoneyAgent(mesa.Agent):\n",
    "    \"\"\"An agent with fixed initial wealth.\"\"\"\n",
    "\n",
    "    def __init__(self, model):\n",
    "        super().__init__(model)\n",
    "        self.wealth = 1\n",
    "\n",
    "    def move(self):\n",
    "        possible_steps = self.model.grid.get_neighborhood(\n",
    "            self.pos, moore=True, include_center=False\n",
    "        )\n",
    "        new_position = self.random.choice(possible_steps)\n",
    "        self.model.grid.move_agent(self, new_position)\n",
    "\n",
    "    def give_money(self):\n",
    "        cellmates = self.model.grid.get_cell_list_contents([self.pos])\n",
    "        # Ensure agent is not giving money to itself\n",
    "        cellmates.pop(cellmates.index(self))\n",
    "        if len(cellmates) > 0:\n",
    "            other_agent = self.random.choice(cellmates)\n",
    "            other_agent.wealth += 1\n",
    "            self.wealth -= 1\n",
    "\n",
    "\n",
    "class MoneyModel(mesa.Model):\n",
    "    \"\"\"A model with some number of agents.\"\"\"\n",
    "\n",
    "    def __init__(self, n, width, height, seed=None):\n",
    "        super().__init__(seed=seed)\n",
    "        self.num_agents = n\n",
    "        self.grid = mesa.space.MultiGrid(width, height, True)\n",
    "\n",
    "        # Create agents\n",
    "        agents = MoneyAgent.create_agents(model=self, n=n)\n",
    "        # Create x and y coordinates for agents\n",
    "        x = self.rng.integers(0, self.grid.width, size=(n,))\n",
    "        y = self.rng.integers(0, self.grid.height, size=(n,))\n",
    "        for a, i, j in zip(agents, x, y):\n",
    "            # Add the agent to a random grid cell\n",
    "            self.grid.place_agent(a, (i, j))\n",
    "\n",
    "    def step(self):\n",
    "        self.agents.shuffle_do(\"move\")\n",
    "        self.agents.do(\"give_money\")"
   ]
  },
  {
   "cell_type": "markdown",
   "id": "8adf1f51",
   "metadata": {},
   "source": [
    "### Running the model\n",
    "\n",
    "Now we need to add to the agents’ behaviors, letting them move around\n",
    "and only give money to other agents in the same cell.\n",
    "\n",
    "First let’s handle movement, and have the agents move to a neighboring\n",
    "cell. The grid object provides a ``move_agent`` method, which like you’d\n",
    "imagine, moves an agent to a given cell. That still leaves us to get the\n",
    "possible neighboring cells to move to. There are a couple ways to do\n",
    "this. One is to use the current coordinates, and loop over all\n",
    "coordinates +/- 1 away from it. For example:\n",
    "\n",
    "```\n",
    "neighbors = []\n",
    "x, y = self.pos\n",
    "for dx in [-1, 0, 1]:\n",
    "   for dy in [-1, 0, 1]:\n",
    "       neighbors.append((x+dx, y+dy))\n",
    "```\n",
    "\n",
    "But there’s an even simpler way, using the grid’s built-in\n",
    "``get_neighborhood`` method, which returns all the neighbors of a given\n",
    "cell. This method can get two types of cell neighborhoods:\n",
    "[Moore](https://en.wikipedia.org/wiki/Moore_neighborhood) (includes\n",
    "all 8 surrounding squares), and [Von\n",
    "Neumann](https://en.wikipedia.org/wiki/Von_Neumann_neighborhood) (only\n",
    "up/down/left/right). It also needs an argument as to whether to include\n",
    "the center cell itself as one of the neighbors.\n",
    "\n",
    "That is why the agent’s ``move`` method looks like above."
   ]
  },
  {
   "cell_type": "markdown",
   "id": "3495433b",
   "metadata": {},
   "source": [
    "Let’s create a model with 50 agents on a 10x10 grid, and run it for 20\n",
    "steps."
   ]
  },
  {
   "cell_type": "code",
   "execution_count": 25,
   "id": "03bd6ada",
   "metadata": {
    "tags": []
   },
   "outputs": [],
   "source": [
    "# Test the model\n",
    "model = MoneyModel(100, 10, 10)\n",
    "for _ in range(20):\n",
    "    model.step()"
   ]
  },
  {
   "cell_type": "code",
   "execution_count": 26,
   "id": "fb237fa5-6111-431f-b1b6-6286ef73f634",
   "metadata": {},
   "outputs": [
    {
     "data": {
      "image/png": "[encoded data removed]",
      "text/plain": [
       "<Figure size 500x500 with 1 Axes>"
      ]
     },
     "metadata": {},
     "output_type": "display_data"
    }
   ],
   "source": [
    "agent_counts = np.zeros((model.grid.width, model.grid.height))\n",
    "for cell_content, (x, y) in model.grid.coord_iter():\n",
    "    agent_count = len(cell_content)\n",
    "    agent_counts[x][y] = agent_count\n",
    "# Plot using seaborn, with a visual size of 5x5\n",
    "g = sns.heatmap(agent_counts, cmap=\"viridis\", annot=True, cbar=False, square=True)\n",
    "g.figure.set_size_inches(5, 5)\n",
    "g.set(title=\"number of agents on each cell of the grid\");"
   ]
  },
  {
   "cell_type": "markdown",
   "id": "67a73f4f",
   "metadata": {},
   "source": [
    "# 3. Visualize the Agent/Model"
   ]
  },
  {
   "cell_type": "code",
   "execution_count": 28,
   "id": "d3f0bc0d",
   "metadata": {
    "tags": []
   },
   "outputs": [
    {
     "name": "stdout",
     "output_type": "stream",
     "text": [
      "Mesa version: 3.1.5\n"
     ]
    },
    {
     "data": {
      "application/javascript": [
       "\n",
       "                    window.jupyter_python_executable = '\\r\\r';\n",
       "                    window.jupyter_widget_checks_silent = true;\n",
       "                    window.jupyter_widget_checks_libraries = [{\"python\": \"ipyvuetify\", \"classic\": \"jupyter-vuetify/extension\", \"lab\": \"jupyter-vuetify\"}, {\"python\": \"ipyvue\", \"classic\": \"jupyter-vue/extension\", \"lab\": \"jupyter-vue\"}];\n",
       "                    "
      ],
      "text/plain": [
       "<IPython.core.display.Javascript object>"
      ]
     },
     "metadata": {},
     "output_type": "display_data"
    },
    {
     "data": {
      "text/html": [
       "<div class=\"jupyter-widget-checks-container\">\n",
       "    <script>\n",
       "        (function () {\n",
       "            console.log(\"Checking for jupyter-widgets extensions\")\n",
       "            const inLab = window._JUPYTERLAB !== undefined;\n",
       "            const silent = jupyter_widget_checks_silent;\n",
       "            const containers = document.getElementsByClassName('jupyter-widget-checks-container');\n",
       "            const rootEl = containers[containers.length - 1];\n",
       "            const libraries = window.jupyter_widget_checks_libraries;\n",
       "\n",
       "            function getBaseUrl() {\n",
       "                const labConfigData = document.getElementById(\"jupyter-config-data\");\n",
       "                if (labConfigData) {\n",
       "                    /* lab and Voila */\n",
       "                    return JSON.parse(labConfigData.textContent).baseUrl;\n",
       "                }\n",
       "                let base = document.body.dataset.baseUrl || document.baseURI;\n",
       "                return base;\n",
       "            }\n",
       "\n",
       "            function checkLibrary(extensions, library) {\n",
       "                let installed = false;\n",
       "                let ok = true;\n",
       "                if (inLab) {\n",
       "                    installed = _JUPYTERLAB[library.lab] !== undefined\n",
       "                } else {\n",
       "                    installed = extensions[library.classic] !== undefined;\n",
       "                    let enabled = extensions[library.classic] === true;\n",
       "                }\n",
       "                const div = document.createElement(\"div\")\n",
       "                if (installed) {\n",
       "                    if (!silent) {\n",
       "                        div.innerHTML = `Extension ${library.python} is installed at the server ✅`\n",
       "                        rootEl.appendChild(div)\n",
       "                    }\n",
       "                } else {\n",
       "                    div.innerHTML = `Extension ${library.python} is <b>NOT</b> installed at the server ❌.`\n",
       "                    rootEl.appendChild(div)\n",
       "                    ok = false;\n",
       "                }\n",
       "                return ok;\n",
       "            }\n",
       "\n",
       "            async function check() {\n",
       "                const url = `${getBaseUrl()}api/config/notebook`\n",
       "                const response = (await fetch(url));\n",
       "                const data = await response.json()\n",
       "                const extensions = data[\"load_extensions\"];\n",
       "                var ok = true;\n",
       "                let needsInstall = [];\n",
       "                libraries.forEach((library) => {\n",
       "                    if (!checkLibrary(extensions, library)) {\n",
       "                        ok = false;\n",
       "                        needsInstall.push(library.python)\n",
       "                        console.log(\"Needs install\", library.python)\n",
       "                    }\n",
       "                })\n",
       "                console.log(ok, needsInstall)\n",
       "                if (!ok) {\n",
       "                    const div = document.createElement(\"div\")\n",
       "                    const div2 = document.createElement(\"div\")\n",
       "                    div.innerHTML = `Run <code>${jupyter_python_executable} -m pip install ${needsInstall.join(\" \")}</code>. Refresh the page after installation.`\n",
       "                    div2.innerHTML = `Visit <a href=\"https://solara.dev/documentation/getting_started/troubleshoot\" target=\"_blank\">https://solara/dev/documentation/getting_started/troubleshoot</a> for more information.`\n",
       "                    rootEl.appendChild(div)\n",
       "                    rootEl.appendChild(div2)\n",
       "                }\n",
       "            }\n",
       "            check()\n",
       "        })();\n",
       "    </script>\n",
       "</div>\n"
      ],
      "text/plain": [
       "<IPython.core.display.HTML object>"
      ]
     },
     "metadata": {},
     "output_type": "display_data"
    }
   ],
   "source": [
    "import mesa\n",
    "print(f\"Mesa version: {mesa.__version__}\")\n",
    "\n",
    "from mesa.visualization import SolaraViz, make_plot_component, make_space_component\n",
    "\n",
    "# Define how your agents should be visualized\n",
    "def agent_portrayal(agent):\n",
    "    return {\n",
    "        \"shape\": \"circle\",\n",
    "        \"r\": 0.8,\n",
    "        \"color\": \"blue\",\n",
    "        \"text\": str(agent.wealth),\n",
    "        \"text_color\": \"white\",\n",
    "    }\n",
    "\n",
    "# Model parameters passed to SolaraViz to instantiate the model\n",
    "model_params = {\n",
    "    \"n\": 50,\n",
    "    \"width\": 10,\n",
    "    \"height\": 10,\n",
    "}\n"
   ]
  },
  {
   "cell_type": "markdown",
   "id": "31516429",
   "metadata": {},
   "source": [
    "# 4. Run the Agent/Model Visualization\n",
    "\n",
    "NOTE: Runtime server error is normal and expected when running visualization code below. This visualization code was made for command line execution (not explicitly for Jupyter Notebooks), so we are **forcing** it's use.\n",
    "\n",
    "Just make sure to increment the port number counter each visualization run, to be able to use it."
   ]
  },
  {
   "cell_type": "code",
   "execution_count": 30,
   "id": "eeb9cf8f-2455-4d7d-b6d3-b7ca12ae920e",
   "metadata": {},
   "outputs": [],
   "source": [
    "def compute_gini(model):\n",
    "    agent_wealths = [agent.wealth for agent in model.agents]\n",
    "    x = sorted(agent_wealths)\n",
    "    n = model.num_agents\n",
    "    B = sum(xi * (n - i) for i, xi in enumerate(x)) / (n * sum(x))\n",
    "    return 1 + (1 / n) - 2 * B\n",
    "\n",
    "\n",
    "class MoneyAgent(mesa.Agent):\n",
    "    \"\"\"An agent with fixed initial wealth.\"\"\"\n",
    "\n",
    "    def __init__(self, model):\n",
    "        super().__init__(model)\n",
    "        self.wealth = 1\n",
    "\n",
    "    def move(self):\n",
    "        possible_steps = self.model.grid.get_neighborhood(\n",
    "            self.pos, moore=True, include_center=False\n",
    "        )\n",
    "        new_position = self.random.choice(possible_steps)\n",
    "        self.model.grid.move_agent(self, new_position)\n",
    "\n",
    "    def give_money(self):\n",
    "        cellmates = self.model.grid.get_cell_list_contents([self.pos])\n",
    "        # Ensure agent is not giving money to itself\n",
    "        cellmates.pop(cellmates.index(self))\n",
    "        if len(cellmates) > 0:\n",
    "            other = self.random.choice(cellmates)\n",
    "            other.wealth += 1\n",
    "            self.wealth -= 1\n",
    "\n",
    "\n",
    "class MoneyModel(mesa.Model):\n",
    "    \"\"\"A model with some number of agents.\"\"\"\n",
    "\n",
    "    def __init__(self, n, width, height):\n",
    "        super().__init__()\n",
    "        self.num_agents = n\n",
    "        # create the space\n",
    "        self.grid = mesa.space.MultiGrid(width, height, True)\n",
    "        # collect the output\n",
    "        self.datacollector = mesa.DataCollector(\n",
    "            model_reporters={\"Gini\": compute_gini}, agent_reporters={\"Wealth\": \"wealth\"}\n",
    "        )\n",
    "\n",
    "        # Create agents\n",
    "        agents = MoneyAgent.create_agents(model=self, n=n)\n",
    "        # Create x and y positions for agents\n",
    "        x = self.rng.integers(0, self.grid.width, size=(n,))\n",
    "        y = self.rng.integers(0, self.grid.height, size=(n,))\n",
    "        for a, i, j in zip(agents, x, y):\n",
    "            # Add the agent to a random grid cell\n",
    "            self.grid.place_agent(a, (i, j))\n",
    "\n",
    "    def step(self):\n",
    "        self.datacollector.collect(self)\n",
    "        self.agents.shuffle_do(\"move\")\n",
    "        self.agents.do(\"give_money\")"
   ]
  },
  {
   "cell_type": "code",
   "execution_count": 31,
   "id": "c9b5221d-4749-4353-934e-710aeec5397f",
   "metadata": {},
   "outputs": [
    {
     "data": {
      "text/plain": [
       "{'n': 50, 'width': 10, 'height': 10}"
      ]
     },
     "execution_count": 31,
     "metadata": {},
     "output_type": "execute_result"
    }
   ],
   "source": [
    "model_params"
   ]
  },
  {
   "cell_type": "code",
   "execution_count": 32,
   "id": "60c09f74",
   "metadata": {
    "tags": []
   },
   "outputs": [
    {
     "name": "stderr",
     "output_type": "stream",
     "text": [
      "C:\\Users\\peers\\anaconda3\\envs\\mesa_new\\Lib\\site-packages\\mesa\\visualization\\mpl_space_drawing.py:341: UserWarning: the following fields are not used in agent portrayal and thus ignored: shape, r, text, text_color.\n",
      "  arguments = collect_agent_data(space, agent_portrayal, size=s_default)\n",
      "C:\\Users\\peers\\anaconda3\\envs\\mesa_new\\Lib\\site-packages\\mesa\\visualization\\mpl_space_drawing.py:341: UserWarning: the following fields are not used in agent portrayal and thus ignored: shape, r, text, text_color.\n",
      "  arguments = collect_agent_data(space, agent_portrayal, size=s_default)\n"
     ]
    },
    {
     "data": {
      "application/vnd.jupyter.widget-view+json": {
       "model_id": "5055d1eab73c494083864538052e47e3",
       "version_major": 2,
       "version_minor": 0
      },
      "text/html": [
       "Cannot show widget. You probably want to rerun the code cell above (<i>Click in the code cell, and press Shift+Enter <kbd>⇧</kbd>+<kbd>↩</kbd></i>)."
      ],
      "text/plain": [
       "Cannot show ipywidgets in text"
      ]
     },
     "metadata": {},
     "output_type": "display_data"
    }
   ],
   "source": [
    "# Create initial model instance\n",
    "money_model = MoneyModel(n=50, width=10, height=10) #keyword arguments\n",
    "\n",
    "SpaceGraph = make_space_component(agent_portrayal)\n",
    "GiniPlot = make_plot_component(\"Gini\")\n",
    "\n",
    "page = SolaraViz(\n",
    "    money_model,\n",
    "    components=[SpaceGraph, GiniPlot],\n",
    "    model_params=model_params,\n",
    "    name=\"Boltzmann Wealth Model\",\n",
    ")\n",
    "# This is required to render the visualization in the Jupyter notebook\n",
    "page"
   ]
  },
  {
   "cell_type": "markdown",
   "id": "12e2d46d",
   "metadata": {},
   "source": [
    "# 5. Collect data to Analyze the Agent/Model"
   ]
  },
  {
   "cell_type": "markdown",
   "id": "d2f1c4a2",
   "metadata": {},
   "source": [
    "### Collecting Data\n",
    "\n",
    "So far, at the end of every model run, we’ve had to go and write our own\n",
    "code to get the data out of the model. This has two problems: it isn’t\n",
    "very efficient, and it only gives us end results. If we wanted to know\n",
    "the wealth of each agent at each step, we’d have to add that to the loop\n",
    "of executing steps, and figure out some way to store the data.\n",
    "\n",
    "Since one of the main goals of agent-based modeling is generating data\n",
    "for analysis, Mesa provides a class which can handle data collection and\n",
    "storage for us and make it easier to analyze.\n",
    "\n",
    "The data collector stores three categories of data: model-level\n",
    "variables, agent-level variables, and tables (which are a catch-all for\n",
    "everything else). Model- and agent-level variables are added to the data\n",
    "collector along with a function for collecting them. Model-level\n",
    "collection functions take a model object as an input, while agent-level\n",
    "collection functions take an agent object as an input. Both then return\n",
    "a value computed from the model or each agent at their current state.\n",
    "When the data collector’s ``collect`` method is called, with a model\n",
    "object as its argument, it applies each model-level collection function\n",
    "to the model, and stores the results in a dictionary, associating the\n",
    "current value with the current step of the model. Similarly, the method\n",
    "applies each agent-level collection function to each agent currently in\n",
    "the schedule, associating the resulting value with the step of the\n",
    "model, and the agent’s ``unique_id``.\n",
    "\n",
    "Let’s add a DataCollector to the model, and collect two variables. At\n",
    "the agent level, we want to collect every agent’s wealth at every step.\n",
    "At the model level, let’s measure the model’s [Gini\n",
    "Coefficient](https://en.wikipedia.org/wiki/Gini_coefficient), a\n",
    "measure of wealth inequality.\n",
    "\n",
    "At every step of the model, the datacollector will collect and store the\n",
    "model-level current Gini coefficient, as well as each agent’s wealth,\n",
    "associating each with the current step."
   ]
  },
  {
   "cell_type": "code",
   "execution_count": 35,
   "id": "2d450568",
   "metadata": {},
   "outputs": [
    {
     "ename": "NameError",
     "evalue": "name 'Agent' is not defined",
     "output_type": "error",
     "traceback": [
      "\u001b[1;31m---------------------------------------------------------------------------\u001b[0m",
      "\u001b[1;31mNameError\u001b[0m                                 Traceback (most recent call last)",
      "Cell \u001b[1;32mIn[35], line 14\u001b[0m\n\u001b[0;32m     10\u001b[0m     B \u001b[38;5;241m=\u001b[39m \u001b[38;5;28msum\u001b[39m(xi \u001b[38;5;241m*\u001b[39m (N \u001b[38;5;241m-\u001b[39m i) \u001b[38;5;28;01mfor\u001b[39;00m i, xi \u001b[38;5;129;01min\u001b[39;00m \u001b[38;5;28menumerate\u001b[39m(x)) \u001b[38;5;241m/\u001b[39m (N \u001b[38;5;241m*\u001b[39m \u001b[38;5;28msum\u001b[39m(x))\n\u001b[0;32m     11\u001b[0m     \u001b[38;5;28;01mreturn\u001b[39;00m \u001b[38;5;241m1\u001b[39m \u001b[38;5;241m+\u001b[39m (\u001b[38;5;241m1\u001b[39m \u001b[38;5;241m/\u001b[39m N) \u001b[38;5;241m-\u001b[39m \u001b[38;5;241m2\u001b[39m \u001b[38;5;241m*\u001b[39m B\n\u001b[1;32m---> 14\u001b[0m \u001b[38;5;28;01mclass\u001b[39;00m \u001b[38;5;21;01mMoneyAgent\u001b[39;00m(Agent):\n\u001b[0;32m     15\u001b[0m \u001b[38;5;250m    \u001b[39m\u001b[38;5;124;03m\"\"\"An agent with fixed initial wealth.\"\"\"\u001b[39;00m\n\u001b[0;32m     17\u001b[0m     \u001b[38;5;28;01mdef\u001b[39;00m \u001b[38;5;21m__init__\u001b[39m(\u001b[38;5;28mself\u001b[39m, unique_id, model):\n",
      "\u001b[1;31mNameError\u001b[0m: name 'Agent' is not defined"
     ]
    }
   ],
   "source": [
    "# Collecting Data\n",
    "\n",
    "from mesa.datacollection import DataCollector\n",
    "\n",
    "\n",
    "def compute_gini(model):\n",
    "    agent_wealths = [agent.wealth for agent in model.schedule.agents]\n",
    "    x = sorted(agent_wealths)\n",
    "    N = model.num_agents\n",
    "    B = sum(xi * (N - i) for i, xi in enumerate(x)) / (N * sum(x))\n",
    "    return 1 + (1 / N) - 2 * B\n",
    "\n",
    "\n",
    "class MoneyAgent(Agent):\n",
    "    \"\"\"An agent with fixed initial wealth.\"\"\"\n",
    "\n",
    "    def __init__(self, unique_id, model):\n",
    "        super().__init__(unique_id, model)\n",
    "        self.wealth = 1\n",
    "        \n",
    "    def move(self):\n",
    "        possible_steps = self.model.grid.get_neighborhood(\n",
    "            self.pos, moore=True, include_center=False\n",
    "        )\n",
    "        new_position = self.random.choice(possible_steps)\n",
    "        self.model.grid.move_agent(self, new_position)\n",
    "\n",
    "    def give_money(self):\n",
    "        cellmates = self.model.grid.get_cell_list_contents([self.pos])\n",
    "        if len(cellmates) > 1:\n",
    "            other = self.random.choice(cellmates)\n",
    "            other.wealth += 1\n",
    "            self.wealth -= 1\n",
    "\n",
    "    def step(self):\n",
    "        self.move()\n",
    "        if self.wealth > 0:\n",
    "            self.give_money()\n",
    "\n",
    "\n",
    "class MoneyModel(Model):\n",
    "    \"\"\"A model with some number of agents.\"\"\"\n",
    "\n",
    "    def __init__(self, N, width, height):\n",
    "        super().__init__()\n",
    "        self.num_agents = N\n",
    "        self.grid = MultiGrid(width, height, True)\n",
    "        self.schedule = RandomActivation(self)\n",
    "        \n",
    "        # Create agents\n",
    "        for i in range(self.num_agents):\n",
    "            a = MoneyAgent(i, self)\n",
    "            self.schedule.add(a)\n",
    "            # Add the agent to a random grid cell\n",
    "            x = self.random.randrange(self.grid.width)\n",
    "            y = self.random.randrange(self.grid.height)\n",
    "            self.grid.place_agent(a, (x, y))\n",
    "\n",
    "        self.datacollector = DataCollector(    # < Note that we have both an agent and model data collector\n",
    "            model_reporters={\"Gini\": compute_gini}, agent_reporters={\"Wealth\": \"wealth\"}\n",
    "        )\n",
    "\n",
    "    def step(self):\n",
    "        self.datacollector.collect(self)\n",
    "        self.schedule.step()"
   ]
  },
  {
   "cell_type": "markdown",
   "id": "b4082398",
   "metadata": {},
   "source": [
    "### Running the model\n",
    "\n",
    "We run the model just as we did above. It is especially in those cases an interactive\n",
    "session, especially via a Notebook, comes in handy: the DataCollector\n",
    "can export the data it’s collected as a pandas DataFrame, for easy\n",
    "interactive analysis."
   ]
  },
  {
   "cell_type": "code",
   "execution_count": null,
   "id": "32f9bb96",
   "metadata": {},
   "outputs": [],
   "source": [
    "# Test the model\n",
    "\n",
    "model = MoneyModel(50, 10, 10)\n",
    "for i in range(100):\n",
    "    model.step()"
   ]
  },
  {
   "cell_type": "markdown",
   "id": "942d3cd6",
   "metadata": {},
   "source": [
    "To get the series of Gini coefficients as a pandas DataFrame:"
   ]
  },
  {
   "cell_type": "markdown",
   "id": "9ed4ee5a",
   "metadata": {},
   "source": [
    "# 6. Run the Agent/Model Analysis"
   ]
  },
  {
   "cell_type": "code",
   "execution_count": null,
   "id": "a8b6be24",
   "metadata": {},
   "outputs": [],
   "source": [
    "# Plot coefficients\n",
    "\n",
    "gini = model.datacollector.get_model_vars_dataframe()\n",
    "gini.plot()"
   ]
  },
  {
   "cell_type": "markdown",
   "id": "40c0b4c0",
   "metadata": {},
   "source": [
    "Similarly, we can get the agent-wealth data:"
   ]
  },
  {
   "cell_type": "code",
   "execution_count": null,
   "id": "80149f9b",
   "metadata": {},
   "outputs": [],
   "source": [
    "# Get agent data\n",
    "agent_wealth = model.datacollector.get_agent_vars_dataframe()\n",
    "agent_wealth.head()"
   ]
  },
  {
   "cell_type": "markdown",
   "id": "782b2cda",
   "metadata": {},
   "source": [
    "You’ll see that the DataFrame’s index is pairings of model step and\n",
    "agent ID. You can analyze it the way you would any other DataFrame. For\n",
    "example, to get a histogram of agent wealth at the model’s end:"
   ]
  },
  {
   "cell_type": "code",
   "execution_count": null,
   "id": "c5764828",
   "metadata": {},
   "outputs": [],
   "source": [
    "# Plot histogram of agents wealth\n",
    "\n",
    "end_wealth = agent_wealth.xs(99, level=\"Step\")\n",
    "end_wealth.Wealth.hist()"
   ]
  },
  {
   "cell_type": "markdown",
   "id": "c64dfb6d",
   "metadata": {},
   "source": [
    "Or to plot the wealth of a given agent (in this example, agent 14):"
   ]
  },
  {
   "cell_type": "code",
   "execution_count": null,
   "id": "54811db8",
   "metadata": {},
   "outputs": [],
   "source": [
    "# Plot the trend of wealth of given agent\n",
    "\n",
    "one_agent_wealth = agent_wealth.xs(14, level=\"AgentID\")\n",
    "one_agent_wealth.Wealth.plot()"
   ]
  },
  {
   "cell_type": "markdown",
   "id": "bc99e6da",
   "metadata": {},
   "source": [
    "# 7. Create iteration Batch of the Agent/Model"
   ]
  },
  {
   "cell_type": "markdown",
   "id": "01685e8c",
   "metadata": {},
   "source": [
    "### Batch Run\n",
    "\n",
    "Like we mentioned above, you usually won’t run a model only once, but\n",
    "multiple times, with fixed parameters to find the overall distributions\n",
    "the model generates, and with varying parameters to analyze how they\n",
    "drive the model’s outputs and behaviors. Instead of needing to write\n",
    "nested for-loops for each model, Mesa provides a ``batch_run`` function\n",
    "which automates it for you.\n",
    "\n",
    "The batch runner also requires an additional variable ``self.running``\n",
    "for the MoneyModel class. This variable enables conditional shut off of\n",
    "the model once a condition is met. In this example it will be set as\n",
    "True indefinitely."
   ]
  },
  {
   "cell_type": "code",
   "execution_count": null,
   "id": "b37f034b",
   "metadata": {
    "editable": true,
    "slideshow": {
     "slide_type": ""
    },
    "tags": []
   },
   "outputs": [],
   "source": [
    "# Batch Run\n",
    "def compute_gini(model):\n",
    "    agent_wealths = [agent.wealth for agent in model.schedule.agents]\n",
    "    x = sorted(agent_wealths)\n",
    "    N = model.num_agents\n",
    "    B = sum(xi * (N - i) for i, xi in enumerate(x)) / (N * sum(x))\n",
    "    return 1 + (1 / N) - 2 * B\n",
    "\n",
    "\n",
    "\n",
    "class MoneyAgent(Agent):\n",
    "    \"\"\"An agent with fixed initial wealth.\"\"\"\n",
    "\n",
    "    def __init__(self, unique_id, model):\n",
    "        super().__init__(unique_id, model)\n",
    "        self.wealth = 1\n",
    "        \n",
    "    def move(self):\n",
    "        possible_steps = self.model.grid.get_neighborhood(\n",
    "            self.pos, moore=True, include_center=False\n",
    "        )\n",
    "        new_position = self.random.choice(possible_steps)\n",
    "        self.model.grid.move_agent(self, new_position)\n",
    "\n",
    "    def give_money(self):\n",
    "        cellmates = self.model.grid.get_cell_list_contents([self.pos])\n",
    "        if len(cellmates) > 1:\n",
    "            other = self.random.choice(cellmates)\n",
    "            other.wealth += 1\n",
    "            self.wealth -= 1\n",
    "\n",
    "    def step(self):\n",
    "        self.move()\n",
    "        if self.wealth > 0:\n",
    "            self.give_money()\n",
    "\n",
    "\n",
    "class MoneyModel(Model):\n",
    "    \"\"\"A model with some number of agents.\"\"\"\n",
    "\n",
    "    def __init__(self, N, width, height):\n",
    "        super().__init__()\n",
    "        self.num_agents = N\n",
    "        self.grid = MultiGrid(width, height, True)\n",
    "        self.schedule = RandomActivation(self)\n",
    "        self.running = True\n",
    "        \n",
    "        # Create agents\n",
    "        for i in range(self.num_agents):\n",
    "            a = MoneyAgent(i, self)\n",
    "            self.schedule.add(a)\n",
    "            # Add the agent to a random grid cell\n",
    "            x = self.random.randrange(self.grid.width)\n",
    "            y = self.random.randrange(self.grid.height)\n",
    "            self.grid.place_agent(a, (x, y))\n",
    "\n",
    "        self.datacollector = DataCollector(\n",
    "            model_reporters={\"Gini\": compute_gini}, agent_reporters={\"Wealth\": \"wealth\"}\n",
    "        )\n",
    "\n",
    "    def step(self):\n",
    "        self.datacollector.collect(self)\n",
    "        self.schedule.step()"
   ]
  },
  {
   "cell_type": "markdown",
   "id": "cae6701a",
   "metadata": {},
   "source": [
    "# 8. Run the Agent/Model Batch"
   ]
  },
  {
   "cell_type": "markdown",
   "id": "94fb4935",
   "metadata": {},
   "source": [
    "### Running the model\n",
    "\n",
    "We call ``batch_run`` with the following arguments:\n",
    "\n",
    "* ``model_cls``\n",
    "\n",
    "  The model class that is used for the batch run.\n",
    "\n",
    "* ``parameters``\n",
    "\n",
    "  A dictionary containing all the parameters of the model class and\n",
    "  desired values to use for the batch run as key-value pairs. Each\n",
    "  value can either be fixed ( e.g. ``{\"height\": 10, \"width\": 10}``)\n",
    "  or an iterable (e.g. ``{\"N\": range(10, 500, 10)}``). ``batch_run``\n",
    "  will then generate all possible parameter combinations based on this\n",
    "  dictionary and run the model ``iterations`` times for each combination.\n",
    "\n",
    "* ``number_processes``\n",
    "\n",
    "  Number of processors used to run the sweep in parallel. Optional.\n",
    "  If not specified, defaults to use all the available processors.\n",
    "\n",
    "  Note: Multiprocessing does make debugging challenging. If your\n",
    "  parameter sweeps are resulting in unexpected errors set ``number_processes = 1``.\n",
    "  \n",
    "  Also, if your batcher is stuck and is not running for some reason, try also setting ``number_processes = 1``, since this issue might also be related to multiprocessing issues.\n",
    "\n",
    "* ``iterations``\n",
    "\n",
    "  The number of iterations to run each parameter combination for. Optional.\n",
    "  If not specified, defaults to 1.\n",
    "\n",
    "* ``data_collection_period``\n",
    "\n",
    "  The length of the period (number of steps) after which the model and\n",
    "  agent reporters collect data. Optional. If not specified, defaults to -1,\n",
    "  i.e. only at the end of each episode.\n",
    "\n",
    "* ``max_steps``\n",
    "\n",
    "  The maximum number of time steps after which the model halts. An episode\n",
    "  does either end when ``self.running`` of the model class is set to\n",
    "  ``False`` or when ``model.schedule.steps == max_steps`` is reached.\n",
    "  Optional. If not specified, defaults to 1000.\n",
    "\n",
    "* ``display_progress``\n",
    "\n",
    "  Display the batch run progress. Optional. If not specified, defaults to ``True``.\n",
    "\n",
    "In the following example, we hold the height and width fixed, and vary\n",
    "the number of agents. We tell the batch runner to run 5 instantiations\n",
    "of the model with each number of agents, and to run each for 100 steps.\n",
    "\n",
    "We want to keep track of\n",
    "\n",
    "1. the Gini coefficient value and\n",
    "2. the individual agent’s wealth development.\n",
    "\n",
    "Since for the latter changes at each time step might be interesting, we\n",
    "set ``data_collection_period = 1``.\n",
    "\n",
    "Note: The total number of runs is 245 (= 49 different populations \\* 5\n",
    "iterations per population). However, the resulting list of dictionaries\n",
    "will be of length 6186250 (= 250 average agents per population \\* 49\n",
    "different populations \\* 5 iterations per population \\* 101 steps per\n",
    "iteration)."
   ]
  },
  {
   "cell_type": "code",
   "execution_count": null,
   "id": "ab3057ba",
   "metadata": {},
   "outputs": [],
   "source": [
    "# Test the batch model\n",
    "# If your batcher is stuck and is not running for some reason, try setting number_processes = 1\n",
    "\n",
    "from mesa.batchrunner import batch_run\n",
    "\n",
    "params = {\"width\": 10, \"height\": 10, \"N\": range(10, 500, 10)}\n",
    "\n",
    "results = batch_run(\n",
    "    MoneyModel,\n",
    "    parameters=params,\n",
    "    iterations=5,\n",
    "    max_steps=100,\n",
    "    number_processes=1,\n",
    "    data_collection_period=1,\n",
    "    display_progress=True,\n",
    ")"
   ]
  },
  {
   "cell_type": "markdown",
   "id": "7f22bade",
   "metadata": {},
   "source": [
    "### Data collection\n",
    "\n",
    "To further analyze the return of the ``batch_run`` function, we convert\n",
    "the list of dictionaries to a Pandas DataFrame and print its keys."
   ]
  },
  {
   "cell_type": "markdown",
   "id": "227f6363",
   "metadata": {},
   "source": [
    "# 9. Run the Batch data Analysis"
   ]
  },
  {
   "cell_type": "code",
   "execution_count": null,
   "id": "a5763595",
   "metadata": {},
   "outputs": [],
   "source": [
    "# Collect batch data as Pandas dataframe\n",
    "\n",
    "import pandas as pd\n",
    "\n",
    "results_df = pd.DataFrame(results)\n",
    "results_df.head()"
   ]
  },
  {
   "cell_type": "markdown",
   "id": "27cbeb06",
   "metadata": {},
   "source": [
    "### Data visualization\n",
    "\n",
    "First, we want to take a closer look at how the Gini coefficient at the\n",
    "end of each episode changes as we increase the size of the population.\n",
    "For this, we filter our results to only contain the data of one agent\n",
    "(the Gini coefficient will be the same for the entire population at any\n",
    "time) at the 100th step of each episode and then scatter-plot the values\n",
    "for the Gini coefficient over the the number of agents. Notice there are\n",
    "five values for each population size since we set ``iterations=5`` when\n",
    "calling the batch run."
   ]
  },
  {
   "cell_type": "code",
   "execution_count": null,
   "id": "5ac54a98",
   "metadata": {},
   "outputs": [],
   "source": [
    "# Trend of coefficients after each iteration\n",
    "\n",
    "results_filtered = results_df[(results_df.AgentID == 0) & (results_df.Step == 100)]\n",
    "results_filtered.plot.scatter('N', 'Gini')"
   ]
  },
  {
   "cell_type": "markdown",
   "id": "7f4795d0",
   "metadata": {},
   "source": [
    "Second, we want to display the agent’s wealth at each time step of one\n",
    "specific episode. To do this, we again filter our large data frame, this\n",
    "time with a fixed number of agents and only for a specific iteration of\n",
    "that population. To print the results, we convert the filtered data\n",
    "frame to a string specifying the desired columns to print."
   ]
  },
  {
   "cell_type": "markdown",
   "id": "35edb453",
   "metadata": {},
   "source": [
    "A. Show agent’s wealth at each time step of one specific episode (e.g., AgentID)"
   ]
  },
  {
   "cell_type": "code",
   "execution_count": null,
   "id": "3b0bf216",
   "metadata": {},
   "outputs": [],
   "source": [
    "# First, we filter the results\n",
    "one_episode_wealth = results_df[(results_df.N == 10) & (results_df.iteration == 2)]\n",
    "one_episode_wealth[one_episode_wealth.AgentID == 0].Wealth.plot()"
   ]
  },
  {
   "cell_type": "markdown",
   "id": "ae3e4661",
   "metadata": {},
   "source": [
    "Lastly, we want to take a look at the development of the Gini\n",
    "coefficient over the course of one iteration. Filtering and printing\n",
    "looks almost the same as above, only this time we choose a different\n",
    "episode."
   ]
  },
  {
   "cell_type": "markdown",
   "id": "406e5381",
   "metadata": {},
   "source": [
    "B. Development of the coefficient over the course of one iteration"
   ]
  },
  {
   "cell_type": "code",
   "execution_count": null,
   "id": "503b50d1",
   "metadata": {},
   "outputs": [],
   "source": [
    "results_one_episode = results_df[\n",
    "    (results_df.N == 10) & (results_df.iteration == 1) & (results_df.AgentID == 0)\n",
    "]\n",
    "results_one_episode.Gini.plot()"
   ]
  },
  {
   "cell_type": "markdown",
   "id": "d3240035",
   "metadata": {},
   "source": [
    "## Happy Modeling!"
   ]
  },
  {
   "cell_type": "markdown",
   "id": "b9c1b4b8",
   "metadata": {},
   "source": [
    "# Appendix"
   ]
  },
  {
   "cell_type": "markdown",
   "id": "286b50b6",
   "metadata": {},
   "source": [
    "# 3. Visualize the Agent/Model - interactive advanced"
   ]
  },
  {
   "cell_type": "code",
   "execution_count": null,
   "id": "de9c5f71",
   "metadata": {},
   "outputs": [],
   "source": [
    "from mesa.visualization.modules import CanvasGrid, ChartModule, TextElement\n",
    "from mesa.visualization.ModularVisualization import ModularServer\n",
    "from mesa.visualization.UserParam import Slider\n",
    "\n",
    "class MoneyElement(TextElement):\n",
    "    '''\n",
    "    Display a text count of how many happy agents there are.\n",
    "    '''\n",
    "\n",
    "    def render(self, model):\n",
    "        return \"Money agents: \" + str(model.num_agents)\n",
    "\n",
    "def agent_portrayal(agent):\n",
    "    '''\n",
    "    Portrayal Method for canvas\n",
    "    '''\n",
    "    if agent is None:\n",
    "        return\n",
    "    portrayal = {\"Shape\": \"circle\", \"r\": 0.5, \"Filled\": \"true\", \"Layer\": 0}\n",
    "\n",
    "    if agent.wealth == 0:\n",
    "        portrayal[\"Color\"] = \"Red\"\n",
    "    else:\n",
    "        portrayal[\"Color\"] = \"Blue\"\n",
    "    \n",
    "    return portrayal\n",
    "\n",
    "text = MoneyElement()\n",
    "grid = CanvasGrid(agent_portrayal, 10, 10, 500, 500)\n",
    "chart = ChartModule([{\"Label\": \"Gini\", \"Color\": \"#0000FF\"}], data_collector_name=\"datacollector\")\n",
    "\n",
    "model_params = {\n",
    "    \"N\": Slider(\n",
    "        \"Number of agents\",\n",
    "        100,\n",
    "        2,\n",
    "        200,\n",
    "        1,\n",
    "        description=\"Choose how many agents to include in the model\",\n",
    "    ),\n",
    "    \"width\": 10,\n",
    "    \"height\": 10,\n",
    "}\n",
    "\n",
    "server = ModularServer(MoneyModel,\n",
    "                       [grid, text, chart],\n",
    "                       \"Money Model\",\n",
    "                       model_params)\n",
    "server.port = 8526 # The default\n",
    "server.launch()"
   ]
  },
  {
   "cell_type": "code",
   "execution_count": null,
   "id": "7e749fb1",
   "metadata": {},
   "outputs": [],
   "source": []
  }
 ],
 "metadata": {
  "kernelspec": {
   "display_name": "Python [conda env:mesa_new]",
   "language": "python",
   "name": "conda-env-mesa_new-py"
  },
  "language_info": {
   "codemirror_mode": {
    "name": "ipython",
    "version": 3
   },
   "file_extension": ".py",
   "mimetype": "text/x-python",
   "name": "python",
   "nbconvert_exporter": "python",
   "pygments_lexer": "ipython3",
   "version": "3.11.11"
  }
 },
 "nbformat": 4,
 "nbformat_minor": 5
}
